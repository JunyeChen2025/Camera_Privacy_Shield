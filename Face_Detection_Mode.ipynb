{
  "nbformat": 4,
  "nbformat_minor": 0,
  "metadata": {
    "colab": {
      "provenance": [],
      "gpuType": "T4",
      "authorship_tag": "ABX9TyNmM5N9TIQ7vJDJOcCO6Z9D",
      "include_colab_link": true
    },
    "kernelspec": {
      "name": "python3",
      "display_name": "Python 3"
    },
    "language_info": {
      "name": "python"
    },
    "accelerator": "GPU"
  },
  "cells": [
    {
      "cell_type": "markdown",
      "metadata": {
        "id": "view-in-github",
        "colab_type": "text"
      },
      "source": [
        "<a href=\"https://colab.research.google.com/github/JunyeChen2025/Camera_Privacy_Shield/blob/main/Face_Detection_Mode.ipynb\" target=\"_parent\"><img src=\"https://colab.research.google.com/assets/colab-badge.svg\" alt=\"Open In Colab\"/></a>"
      ]
    },
    {
      "cell_type": "code",
      "source": [
        "from google.colab import drive\n",
        "drive.mount('/content/drive')"
      ],
      "metadata": {
        "colab": {
          "base_uri": "https://localhost:8080/"
        },
        "id": "MUuA-pKlWnbq",
        "outputId": "6ef1b02a-21ed-43d7-829e-84d97b6fbf76"
      },
      "execution_count": 1,
      "outputs": [
        {
          "output_type": "stream",
          "name": "stdout",
          "text": [
            "Mounted at /content/drive\n"
          ]
        }
      ]
    },
    {
      "cell_type": "code",
      "source": [
        "!unzip -q '/content/drive/My Drive/YOLO_Data/Wider_Face_Dataset.zip' -d /content/Dataset"
      ],
      "metadata": {
        "id": "r5_ab-XcW0Gx"
      },
      "execution_count": 2,
      "outputs": []
    },
    {
      "cell_type": "code",
      "source": [
        "import os\n",
        "import shutil\n",
        "\n",
        "# Set Path\n",
        "base_path = \"/content/Dataset/Wider_Face_Dataset\"\n",
        "output_path = os.path.join(base_path, \"images\")\n",
        "os.makedirs(output_path, exist_ok=True)\n",
        "\n",
        "# Define the mapping of source directories to target subfolders\n",
        "folder_map = {\n",
        "    \"WIDER_train\": \"train\",\n",
        "    \"WIDER_val\": \"val\",\n",
        "    \"WIDER_test\": \"test\"\n",
        "}\n",
        "\n",
        "for src_folder, target_subfolder in folder_map.items():\n",
        "    src_path = os.path.join(base_path, src_folder)\n",
        "    dst_path = os.path.join(output_path, target_subfolder)\n",
        "    os.makedirs(dst_path, exist_ok=True)\n",
        "\n",
        "    # Iterate over subdirectories\n",
        "    for root, dirs, files in os.walk(src_path):\n",
        "        for file in files:\n",
        "            if file.lower().endswith(\".jpg\"):\n",
        "                src_file_path = os.path.join(root, file)\n",
        "                dst_file_path = os.path.join(dst_path, file)\n",
        "                shutil.copy2(src_file_path, dst_file_path)\n",
        "\n",
        "    print(f\"Extraction completed：{src_folder} -> images/{target_subfolder}\")\n",
        "\n",
        "# Delete original folders\n",
        "for folder in folder_map.keys():\n",
        "    folder_path = os.path.join(base_path, folder)\n",
        "    shutil.rmtree(folder_path)\n",
        "    print(f\"Deleted orginal directory：{folder_path}\")\n",
        "\n",
        "print(\"All images have been collated.\")\n"
      ],
      "metadata": {
        "colab": {
          "base_uri": "https://localhost:8080/"
        },
        "id": "XEfxcMNTbA6z",
        "outputId": "b395ba00-5672-4cd0-eb0a-748dc8cc308f"
      },
      "execution_count": 3,
      "outputs": [
        {
          "output_type": "stream",
          "name": "stdout",
          "text": [
            "Extraction completed：WIDER_train -> images/train\n",
            "Extraction completed：WIDER_val -> images/val\n",
            "Extraction completed：WIDER_test -> images/test\n",
            "Deleted orginal directory：/content/Dataset/Wider_Face_Dataset/WIDER_train\n",
            "Deleted orginal directory：/content/Dataset/Wider_Face_Dataset/WIDER_val\n",
            "Deleted orginal directory：/content/Dataset/Wider_Face_Dataset/WIDER_test\n",
            "All images have been collated.\n"
          ]
        }
      ]
    },
    {
      "cell_type": "code",
      "source": [
        "import os\n",
        "from PIL import Image\n",
        "\n",
        "def convert_widerface_to_yolo(txt_path, image_base_dir, save_label_dir, class_id=0):\n",
        "    os.makedirs(save_label_dir, exist_ok=True)\n",
        "\n",
        "    with open(txt_path, 'r') as f:\n",
        "        lines = f.readlines()\n",
        "\n",
        "    idx = 0\n",
        "    while idx < len(lines):\n",
        "        filename = lines[idx].strip()\n",
        "        idx += 1\n",
        "\n",
        "        if idx >= len(lines):\n",
        "            break\n",
        "\n",
        "        try:\n",
        "            face_count = int(lines[idx].strip())\n",
        "        except ValueError:\n",
        "            print(f\"Skipping invalid face count at line {idx}: {lines[idx]}\")\n",
        "            idx += 1\n",
        "            continue\n",
        "        idx += 1\n",
        "\n",
        "        label_lines = []\n",
        "\n",
        "        image_path = os.path.join(image_base_dir, os.path.basename(filename))\n",
        "        if not os.path.exists(image_path):\n",
        "            print(f\"Image not found: {image_path}, skipping.\")\n",
        "            idx += face_count\n",
        "            continue\n",
        "\n",
        "        try:\n",
        "            img = Image.open(image_path)\n",
        "            w_img, h_img = img.size\n",
        "        except:\n",
        "            print(f\"Failed to open image: {image_path}\")\n",
        "            idx += face_count\n",
        "            continue\n",
        "\n",
        "        for _ in range(face_count):\n",
        "            if idx >= len(lines):\n",
        "                break\n",
        "            parts = lines[idx].strip().split()\n",
        "            if len(parts) < 4:\n",
        "                idx += 1\n",
        "                continue\n",
        "\n",
        "            try:\n",
        "                x, y, w, h = map(float, parts[:4])\n",
        "                x_center = (x + w / 2) / w_img\n",
        "                y_center = (y + h / 2) / h_img\n",
        "                w_norm = w / w_img\n",
        "                h_norm = h / h_img\n",
        "                label_line = f\"{class_id} {x_center:.6f} {y_center:.6f} {w_norm:.6f} {h_norm:.6f}\"\n",
        "                label_lines.append(label_line)\n",
        "            except:\n",
        "                pass\n",
        "            idx += 1\n",
        "\n",
        "        # Save label\n",
        "        base_name = os.path.splitext(os.path.basename(filename))[0]\n",
        "        label_file = os.path.join(save_label_dir, base_name + '.txt')\n",
        "        with open(label_file, 'w') as f:\n",
        "            f.write('\\n'.join(label_lines))\n"
      ],
      "metadata": {
        "id": "XH5MmSHychpG"
      },
      "execution_count": 4,
      "outputs": []
    },
    {
      "cell_type": "code",
      "source": [
        "# Set Path\n",
        "base_path = \"/content/Dataset/Wider_Face_Dataset\"\n",
        "anno_path = os.path.join(base_path, \"Annotations\")\n",
        "image_dir = os.path.join(base_path, \"images\")\n",
        "\n",
        "# Convert training set and validation set\n",
        "convert_widerface_to_yolo(\n",
        "    txt_path=os.path.join(anno_path, \"wider_face_train_bbx_gt.txt\"),\n",
        "    image_base_dir=os.path.join(image_dir, \"train\"),\n",
        "    save_label_dir=os.path.join(base_path, \"labels/train\")\n",
        ")\n",
        "\n",
        "convert_widerface_to_yolo(\n",
        "    txt_path=os.path.join(anno_path, \"wider_face_val_bbx_gt.txt\"),\n",
        "    image_base_dir=os.path.join(image_dir, \"val\"),\n",
        "    save_label_dir=os.path.join(base_path, \"labels/val\")\n",
        ")\n"
      ],
      "metadata": {
        "colab": {
          "base_uri": "https://localhost:8080/"
        },
        "id": "KL-SYF9hc7F8",
        "outputId": "785433b1-599f-4d10-cc23-e092e19af590"
      },
      "execution_count": 5,
      "outputs": [
        {
          "output_type": "stream",
          "name": "stdout",
          "text": [
            "Skipping invalid face count at line 10424: 0--Parade/0_Parade_Parade_0_630.jpg\n",
            "\n",
            "Skipping invalid face count at line 10426: 20 186 14 20 1 0 0 0 0 0 \n",
            "\n",
            "Skipping invalid face count at line 10428: 119 181 14 17 2 0 0 0 2 0 \n",
            "\n",
            "Skipping invalid face count at line 10430: 375 129 46 62 0 0 0 0 0 0 \n",
            "\n",
            "Skipping invalid face count at line 10432: 349 122 26 38 0 0 0 0 0 0 \n",
            "\n",
            "Skipping invalid face count at line 10434: 527 174 10 16 1 0 0 0 0 0 \n",
            "\n",
            "Skipping invalid face count at line 10436: 695 143 49 64 0 0 0 0 0 0 \n",
            "\n",
            "Skipping invalid face count at line 10438: 822 138 29 38 0 0 0 0 2 0 \n",
            "\n",
            "Skipping invalid face count at line 10440: 954 156 12 18 1 0 0 0 0 0 \n",
            "\n",
            "Skipping invalid face count at line 10442: 615 143 22 24 1 0 0 0 2 0 \n",
            "\n",
            "Skipping invalid face count at line 86539: 2--Demonstration/2_Demonstration_Political_Rally_2_414.jpg\n",
            "\n",
            "Skipping invalid face count at line 86541: 52 130 120 204 0 0 0 0 0 1 \n",
            "\n",
            "Skipping invalid face count at line 86543: 400 156 62 64 1 0 0 0 1 1 \n",
            "\n",
            "Skipping invalid face count at line 86545: 934 10 90 170 0 0 0 0 2 0 \n",
            "\n",
            "Skipping invalid face count at line 133394: 39--Ice_Skating/39_Ice_Skating_iceskiing_39_195.jpg\n",
            "\n",
            "Skipping invalid face count at line 133396: 477 49 28 28 1 0 0 0 1 0 \n",
            "\n",
            "Skipping invalid face count at line 133398: 775 119 8 8 2 0 0 0 2 0 \n",
            "\n",
            "Skipping invalid face count at line 145714: 46--Jockey/46_Jockey_Jockey_46_138.jpg\n",
            "\n",
            "Skipping invalid face count at line 145716: 308 230 188 243 0 0 0 0 0 0 \n",
            "\n"
          ]
        }
      ]
    },
    {
      "cell_type": "code",
      "source": [
        "!pip install -U ultralytics"
      ],
      "metadata": {
        "colab": {
          "base_uri": "https://localhost:8080/"
        },
        "id": "410FNjnme39g",
        "outputId": "f675402f-1db2-4d25-dfe4-f4fb4b8d7ad5"
      },
      "execution_count": 6,
      "outputs": [
        {
          "output_type": "stream",
          "name": "stdout",
          "text": [
            "Collecting ultralytics\n",
            "  Downloading ultralytics-8.3.167-py3-none-any.whl.metadata (37 kB)\n",
            "Requirement already satisfied: numpy>=1.23.0 in /usr/local/lib/python3.11/dist-packages (from ultralytics) (2.0.2)\n",
            "Requirement already satisfied: matplotlib>=3.3.0 in /usr/local/lib/python3.11/dist-packages (from ultralytics) (3.10.0)\n",
            "Requirement already satisfied: opencv-python>=4.6.0 in /usr/local/lib/python3.11/dist-packages (from ultralytics) (4.11.0.86)\n",
            "Requirement already satisfied: pillow>=7.1.2 in /usr/local/lib/python3.11/dist-packages (from ultralytics) (11.2.1)\n",
            "Requirement already satisfied: pyyaml>=5.3.1 in /usr/local/lib/python3.11/dist-packages (from ultralytics) (6.0.2)\n",
            "Requirement already satisfied: requests>=2.23.0 in /usr/local/lib/python3.11/dist-packages (from ultralytics) (2.32.3)\n",
            "Requirement already satisfied: scipy>=1.4.1 in /usr/local/lib/python3.11/dist-packages (from ultralytics) (1.15.3)\n",
            "Requirement already satisfied: torch>=1.8.0 in /usr/local/lib/python3.11/dist-packages (from ultralytics) (2.6.0+cu124)\n",
            "Requirement already satisfied: torchvision>=0.9.0 in /usr/local/lib/python3.11/dist-packages (from ultralytics) (0.21.0+cu124)\n",
            "Requirement already satisfied: tqdm>=4.64.0 in /usr/local/lib/python3.11/dist-packages (from ultralytics) (4.67.1)\n",
            "Requirement already satisfied: psutil in /usr/local/lib/python3.11/dist-packages (from ultralytics) (5.9.5)\n",
            "Requirement already satisfied: py-cpuinfo in /usr/local/lib/python3.11/dist-packages (from ultralytics) (9.0.0)\n",
            "Requirement already satisfied: pandas>=1.1.4 in /usr/local/lib/python3.11/dist-packages (from ultralytics) (2.2.2)\n",
            "Collecting ultralytics-thop>=2.0.0 (from ultralytics)\n",
            "  Downloading ultralytics_thop-2.0.14-py3-none-any.whl.metadata (9.4 kB)\n",
            "Requirement already satisfied: contourpy>=1.0.1 in /usr/local/lib/python3.11/dist-packages (from matplotlib>=3.3.0->ultralytics) (1.3.2)\n",
            "Requirement already satisfied: cycler>=0.10 in /usr/local/lib/python3.11/dist-packages (from matplotlib>=3.3.0->ultralytics) (0.12.1)\n",
            "Requirement already satisfied: fonttools>=4.22.0 in /usr/local/lib/python3.11/dist-packages (from matplotlib>=3.3.0->ultralytics) (4.58.5)\n",
            "Requirement already satisfied: kiwisolver>=1.3.1 in /usr/local/lib/python3.11/dist-packages (from matplotlib>=3.3.0->ultralytics) (1.4.8)\n",
            "Requirement already satisfied: packaging>=20.0 in /usr/local/lib/python3.11/dist-packages (from matplotlib>=3.3.0->ultralytics) (24.2)\n",
            "Requirement already satisfied: pyparsing>=2.3.1 in /usr/local/lib/python3.11/dist-packages (from matplotlib>=3.3.0->ultralytics) (3.2.3)\n",
            "Requirement already satisfied: python-dateutil>=2.7 in /usr/local/lib/python3.11/dist-packages (from matplotlib>=3.3.0->ultralytics) (2.9.0.post0)\n",
            "Requirement already satisfied: pytz>=2020.1 in /usr/local/lib/python3.11/dist-packages (from pandas>=1.1.4->ultralytics) (2025.2)\n",
            "Requirement already satisfied: tzdata>=2022.7 in /usr/local/lib/python3.11/dist-packages (from pandas>=1.1.4->ultralytics) (2025.2)\n",
            "Requirement already satisfied: charset-normalizer<4,>=2 in /usr/local/lib/python3.11/dist-packages (from requests>=2.23.0->ultralytics) (3.4.2)\n",
            "Requirement already satisfied: idna<4,>=2.5 in /usr/local/lib/python3.11/dist-packages (from requests>=2.23.0->ultralytics) (3.10)\n",
            "Requirement already satisfied: urllib3<3,>=1.21.1 in /usr/local/lib/python3.11/dist-packages (from requests>=2.23.0->ultralytics) (2.4.0)\n",
            "Requirement already satisfied: certifi>=2017.4.17 in /usr/local/lib/python3.11/dist-packages (from requests>=2.23.0->ultralytics) (2025.7.9)\n",
            "Requirement already satisfied: filelock in /usr/local/lib/python3.11/dist-packages (from torch>=1.8.0->ultralytics) (3.18.0)\n",
            "Requirement already satisfied: typing-extensions>=4.10.0 in /usr/local/lib/python3.11/dist-packages (from torch>=1.8.0->ultralytics) (4.14.1)\n",
            "Requirement already satisfied: networkx in /usr/local/lib/python3.11/dist-packages (from torch>=1.8.0->ultralytics) (3.5)\n",
            "Requirement already satisfied: jinja2 in /usr/local/lib/python3.11/dist-packages (from torch>=1.8.0->ultralytics) (3.1.6)\n",
            "Requirement already satisfied: fsspec in /usr/local/lib/python3.11/dist-packages (from torch>=1.8.0->ultralytics) (2025.3.2)\n",
            "Collecting nvidia-cuda-nvrtc-cu12==12.4.127 (from torch>=1.8.0->ultralytics)\n",
            "  Downloading nvidia_cuda_nvrtc_cu12-12.4.127-py3-none-manylinux2014_x86_64.whl.metadata (1.5 kB)\n",
            "Collecting nvidia-cuda-runtime-cu12==12.4.127 (from torch>=1.8.0->ultralytics)\n",
            "  Downloading nvidia_cuda_runtime_cu12-12.4.127-py3-none-manylinux2014_x86_64.whl.metadata (1.5 kB)\n",
            "Collecting nvidia-cuda-cupti-cu12==12.4.127 (from torch>=1.8.0->ultralytics)\n",
            "  Downloading nvidia_cuda_cupti_cu12-12.4.127-py3-none-manylinux2014_x86_64.whl.metadata (1.6 kB)\n",
            "Collecting nvidia-cudnn-cu12==9.1.0.70 (from torch>=1.8.0->ultralytics)\n",
            "  Downloading nvidia_cudnn_cu12-9.1.0.70-py3-none-manylinux2014_x86_64.whl.metadata (1.6 kB)\n",
            "Collecting nvidia-cublas-cu12==12.4.5.8 (from torch>=1.8.0->ultralytics)\n",
            "  Downloading nvidia_cublas_cu12-12.4.5.8-py3-none-manylinux2014_x86_64.whl.metadata (1.5 kB)\n",
            "Collecting nvidia-cufft-cu12==11.2.1.3 (from torch>=1.8.0->ultralytics)\n",
            "  Downloading nvidia_cufft_cu12-11.2.1.3-py3-none-manylinux2014_x86_64.whl.metadata (1.5 kB)\n",
            "Collecting nvidia-curand-cu12==10.3.5.147 (from torch>=1.8.0->ultralytics)\n",
            "  Downloading nvidia_curand_cu12-10.3.5.147-py3-none-manylinux2014_x86_64.whl.metadata (1.5 kB)\n",
            "Collecting nvidia-cusolver-cu12==11.6.1.9 (from torch>=1.8.0->ultralytics)\n",
            "  Downloading nvidia_cusolver_cu12-11.6.1.9-py3-none-manylinux2014_x86_64.whl.metadata (1.6 kB)\n",
            "Collecting nvidia-cusparse-cu12==12.3.1.170 (from torch>=1.8.0->ultralytics)\n",
            "  Downloading nvidia_cusparse_cu12-12.3.1.170-py3-none-manylinux2014_x86_64.whl.metadata (1.6 kB)\n",
            "Requirement already satisfied: nvidia-cusparselt-cu12==0.6.2 in /usr/local/lib/python3.11/dist-packages (from torch>=1.8.0->ultralytics) (0.6.2)\n",
            "Requirement already satisfied: nvidia-nccl-cu12==2.21.5 in /usr/local/lib/python3.11/dist-packages (from torch>=1.8.0->ultralytics) (2.21.5)\n",
            "Requirement already satisfied: nvidia-nvtx-cu12==12.4.127 in /usr/local/lib/python3.11/dist-packages (from torch>=1.8.0->ultralytics) (12.4.127)\n",
            "Collecting nvidia-nvjitlink-cu12==12.4.127 (from torch>=1.8.0->ultralytics)\n",
            "  Downloading nvidia_nvjitlink_cu12-12.4.127-py3-none-manylinux2014_x86_64.whl.metadata (1.5 kB)\n",
            "Requirement already satisfied: triton==3.2.0 in /usr/local/lib/python3.11/dist-packages (from torch>=1.8.0->ultralytics) (3.2.0)\n",
            "Requirement already satisfied: sympy==1.13.1 in /usr/local/lib/python3.11/dist-packages (from torch>=1.8.0->ultralytics) (1.13.1)\n",
            "Requirement already satisfied: mpmath<1.4,>=1.1.0 in /usr/local/lib/python3.11/dist-packages (from sympy==1.13.1->torch>=1.8.0->ultralytics) (1.3.0)\n",
            "Requirement already satisfied: six>=1.5 in /usr/local/lib/python3.11/dist-packages (from python-dateutil>=2.7->matplotlib>=3.3.0->ultralytics) (1.17.0)\n",
            "Requirement already satisfied: MarkupSafe>=2.0 in /usr/local/lib/python3.11/dist-packages (from jinja2->torch>=1.8.0->ultralytics) (3.0.2)\n",
            "Downloading ultralytics-8.3.167-py3-none-any.whl (1.0 MB)\n",
            "\u001b[2K   \u001b[90m━━━━━━━━━━━━━━━━━━━━━━━━━━━━━━━━━━━━━━━━\u001b[0m \u001b[32m1.0/1.0 MB\u001b[0m \u001b[31m26.8 MB/s\u001b[0m eta \u001b[36m0:00:00\u001b[0m\n",
            "\u001b[?25hDownloading nvidia_cublas_cu12-12.4.5.8-py3-none-manylinux2014_x86_64.whl (363.4 MB)\n",
            "\u001b[2K   \u001b[90m━━━━━━━━━━━━━━━━━━━━━━━━━━━━━━━━━━━━━━━━\u001b[0m \u001b[32m363.4/363.4 MB\u001b[0m \u001b[31m3.9 MB/s\u001b[0m eta \u001b[36m0:00:00\u001b[0m\n",
            "\u001b[?25hDownloading nvidia_cuda_cupti_cu12-12.4.127-py3-none-manylinux2014_x86_64.whl (13.8 MB)\n",
            "\u001b[2K   \u001b[90m━━━━━━━━━━━━━━━━━━━━━━━━━━━━━━━━━━━━━━━━\u001b[0m \u001b[32m13.8/13.8 MB\u001b[0m \u001b[31m79.4 MB/s\u001b[0m eta \u001b[36m0:00:00\u001b[0m\n",
            "\u001b[?25hDownloading nvidia_cuda_nvrtc_cu12-12.4.127-py3-none-manylinux2014_x86_64.whl (24.6 MB)\n",
            "\u001b[2K   \u001b[90m━━━━━━━━━━━━━━━━━━━━━━━━━━━━━━━━━━━━━━━━\u001b[0m \u001b[32m24.6/24.6 MB\u001b[0m \u001b[31m63.1 MB/s\u001b[0m eta \u001b[36m0:00:00\u001b[0m\n",
            "\u001b[?25hDownloading nvidia_cuda_runtime_cu12-12.4.127-py3-none-manylinux2014_x86_64.whl (883 kB)\n",
            "\u001b[2K   \u001b[90m━━━━━━━━━━━━━━━━━━━━━━━━━━━━━━━━━━━━━━━━\u001b[0m \u001b[32m883.7/883.7 kB\u001b[0m \u001b[31m50.4 MB/s\u001b[0m eta \u001b[36m0:00:00\u001b[0m\n",
            "\u001b[?25hDownloading nvidia_cudnn_cu12-9.1.0.70-py3-none-manylinux2014_x86_64.whl (664.8 MB)\n",
            "\u001b[2K   \u001b[90m━━━━━━━━━━━━━━━━━━━━━━━━━━━━━━━━━━━━━━━━\u001b[0m \u001b[32m664.8/664.8 MB\u001b[0m \u001b[31m1.3 MB/s\u001b[0m eta \u001b[36m0:00:00\u001b[0m\n",
            "\u001b[?25hDownloading nvidia_cufft_cu12-11.2.1.3-py3-none-manylinux2014_x86_64.whl (211.5 MB)\n",
            "\u001b[2K   \u001b[90m━━━━━━━━━━━━━━━━━━━━━━━━━━━━━━━━━━━━━━━━\u001b[0m \u001b[32m211.5/211.5 MB\u001b[0m \u001b[31m7.2 MB/s\u001b[0m eta \u001b[36m0:00:00\u001b[0m\n",
            "\u001b[?25hDownloading nvidia_curand_cu12-10.3.5.147-py3-none-manylinux2014_x86_64.whl (56.3 MB)\n",
            "\u001b[2K   \u001b[90m━━━━━━━━━━━━━━━━━━━━━━━━━━━━━━━━━━━━━━━━\u001b[0m \u001b[32m56.3/56.3 MB\u001b[0m \u001b[31m11.0 MB/s\u001b[0m eta \u001b[36m0:00:00\u001b[0m\n",
            "\u001b[?25hDownloading nvidia_cusolver_cu12-11.6.1.9-py3-none-manylinux2014_x86_64.whl (127.9 MB)\n",
            "\u001b[2K   \u001b[90m━━━━━━━━━━━━━━━━━━━━━━━━━━━━━━━━━━━━━━━━\u001b[0m \u001b[32m127.9/127.9 MB\u001b[0m \u001b[31m9.3 MB/s\u001b[0m eta \u001b[36m0:00:00\u001b[0m\n",
            "\u001b[?25hDownloading nvidia_cusparse_cu12-12.3.1.170-py3-none-manylinux2014_x86_64.whl (207.5 MB)\n",
            "\u001b[2K   \u001b[90m━━━━━━━━━━━━━━━━━━━━━━━━━━━━━━━━━━━━━━━━\u001b[0m \u001b[32m207.5/207.5 MB\u001b[0m \u001b[31m5.6 MB/s\u001b[0m eta \u001b[36m0:00:00\u001b[0m\n",
            "\u001b[?25hDownloading nvidia_nvjitlink_cu12-12.4.127-py3-none-manylinux2014_x86_64.whl (21.1 MB)\n",
            "\u001b[2K   \u001b[90m━━━━━━━━━━━━━━━━━━━━━━━━━━━━━━━━━━━━━━━━\u001b[0m \u001b[32m21.1/21.1 MB\u001b[0m \u001b[31m61.6 MB/s\u001b[0m eta \u001b[36m0:00:00\u001b[0m\n",
            "\u001b[?25hDownloading ultralytics_thop-2.0.14-py3-none-any.whl (26 kB)\n",
            "Installing collected packages: nvidia-nvjitlink-cu12, nvidia-curand-cu12, nvidia-cufft-cu12, nvidia-cuda-runtime-cu12, nvidia-cuda-nvrtc-cu12, nvidia-cuda-cupti-cu12, nvidia-cublas-cu12, nvidia-cusparse-cu12, nvidia-cudnn-cu12, nvidia-cusolver-cu12, ultralytics-thop, ultralytics\n",
            "  Attempting uninstall: nvidia-nvjitlink-cu12\n",
            "    Found existing installation: nvidia-nvjitlink-cu12 12.5.82\n",
            "    Uninstalling nvidia-nvjitlink-cu12-12.5.82:\n",
            "      Successfully uninstalled nvidia-nvjitlink-cu12-12.5.82\n",
            "  Attempting uninstall: nvidia-curand-cu12\n",
            "    Found existing installation: nvidia-curand-cu12 10.3.6.82\n",
            "    Uninstalling nvidia-curand-cu12-10.3.6.82:\n",
            "      Successfully uninstalled nvidia-curand-cu12-10.3.6.82\n",
            "  Attempting uninstall: nvidia-cufft-cu12\n",
            "    Found existing installation: nvidia-cufft-cu12 11.2.3.61\n",
            "    Uninstalling nvidia-cufft-cu12-11.2.3.61:\n",
            "      Successfully uninstalled nvidia-cufft-cu12-11.2.3.61\n",
            "  Attempting uninstall: nvidia-cuda-runtime-cu12\n",
            "    Found existing installation: nvidia-cuda-runtime-cu12 12.5.82\n",
            "    Uninstalling nvidia-cuda-runtime-cu12-12.5.82:\n",
            "      Successfully uninstalled nvidia-cuda-runtime-cu12-12.5.82\n",
            "  Attempting uninstall: nvidia-cuda-nvrtc-cu12\n",
            "    Found existing installation: nvidia-cuda-nvrtc-cu12 12.5.82\n",
            "    Uninstalling nvidia-cuda-nvrtc-cu12-12.5.82:\n",
            "      Successfully uninstalled nvidia-cuda-nvrtc-cu12-12.5.82\n",
            "  Attempting uninstall: nvidia-cuda-cupti-cu12\n",
            "    Found existing installation: nvidia-cuda-cupti-cu12 12.5.82\n",
            "    Uninstalling nvidia-cuda-cupti-cu12-12.5.82:\n",
            "      Successfully uninstalled nvidia-cuda-cupti-cu12-12.5.82\n",
            "  Attempting uninstall: nvidia-cublas-cu12\n",
            "    Found existing installation: nvidia-cublas-cu12 12.5.3.2\n",
            "    Uninstalling nvidia-cublas-cu12-12.5.3.2:\n",
            "      Successfully uninstalled nvidia-cublas-cu12-12.5.3.2\n",
            "  Attempting uninstall: nvidia-cusparse-cu12\n",
            "    Found existing installation: nvidia-cusparse-cu12 12.5.1.3\n",
            "    Uninstalling nvidia-cusparse-cu12-12.5.1.3:\n",
            "      Successfully uninstalled nvidia-cusparse-cu12-12.5.1.3\n",
            "  Attempting uninstall: nvidia-cudnn-cu12\n",
            "    Found existing installation: nvidia-cudnn-cu12 9.3.0.75\n",
            "    Uninstalling nvidia-cudnn-cu12-9.3.0.75:\n",
            "      Successfully uninstalled nvidia-cudnn-cu12-9.3.0.75\n",
            "  Attempting uninstall: nvidia-cusolver-cu12\n",
            "    Found existing installation: nvidia-cusolver-cu12 11.6.3.83\n",
            "    Uninstalling nvidia-cusolver-cu12-11.6.3.83:\n",
            "      Successfully uninstalled nvidia-cusolver-cu12-11.6.3.83\n",
            "Successfully installed nvidia-cublas-cu12-12.4.5.8 nvidia-cuda-cupti-cu12-12.4.127 nvidia-cuda-nvrtc-cu12-12.4.127 nvidia-cuda-runtime-cu12-12.4.127 nvidia-cudnn-cu12-9.1.0.70 nvidia-cufft-cu12-11.2.1.3 nvidia-curand-cu12-10.3.5.147 nvidia-cusolver-cu12-11.6.1.9 nvidia-cusparse-cu12-12.3.1.170 nvidia-nvjitlink-cu12-12.4.127 ultralytics-8.3.167 ultralytics-thop-2.0.14\n"
          ]
        }
      ]
    },
    {
      "cell_type": "code",
      "source": [
        "from ultralytics import YOLO\n",
        "\n",
        "model = YOLO('yolov8n.yaml')\n",
        "model.train(\n",
        "    data=\"/content/Dataset/Wider_Face_Dataset/wider_face.yaml\",\n",
        "    epochs=30,\n",
        "    imgsz=640,\n",
        "    batch=16,\n",
        "    name=\"face_yolov8\"\n",
        ")"
      ],
      "metadata": {
        "colab": {
          "base_uri": "https://localhost:8080/"
        },
        "id": "rVnc6TvMgDgB",
        "outputId": "8f669f52-8561-4187-a31e-fc57913c9bd1"
      },
      "execution_count": 9,
      "outputs": [
        {
          "metadata": {
            "tags": null
          },
          "name": "stdout",
          "output_type": "stream",
          "text": [
            "Ultralytics 8.3.167 🚀 Python-3.11.13 torch-2.6.0+cu124 CUDA:0 (Tesla T4, 15095MiB)\n",
            "\u001b[34m\u001b[1mengine/trainer: \u001b[0magnostic_nms=False, amp=True, augment=False, auto_augment=randaugment, batch=16, bgr=0.0, box=7.5, cache=False, cfg=None, classes=None, close_mosaic=10, cls=0.5, conf=None, copy_paste=0.0, copy_paste_mode=flip, cos_lr=False, cutmix=0.0, data=/content/Dataset/Wider_Face_Dataset/wider_face.yaml, degrees=0.0, deterministic=True, device=None, dfl=1.5, dnn=False, dropout=0.0, dynamic=False, embed=None, epochs=30, erasing=0.4, exist_ok=False, fliplr=0.5, flipud=0.0, format=torchscript, fraction=1.0, freeze=None, half=False, hsv_h=0.015, hsv_s=0.7, hsv_v=0.4, imgsz=640, int8=False, iou=0.7, keras=False, kobj=1.0, line_width=None, lr0=0.01, lrf=0.01, mask_ratio=4, max_det=300, mixup=0.0, mode=train, model=yolov8n.yaml, momentum=0.937, mosaic=1.0, multi_scale=False, name=face_yolov83, nbs=64, nms=False, opset=None, optimize=False, optimizer=auto, overlap_mask=True, patience=100, perspective=0.0, plots=True, pose=12.0, pretrained=True, profile=False, project=None, rect=False, resume=False, retina_masks=False, save=True, save_conf=False, save_crop=False, save_dir=runs/detect/face_yolov83, save_frames=False, save_json=False, save_period=-1, save_txt=False, scale=0.5, seed=0, shear=0.0, show=False, show_boxes=True, show_conf=True, show_labels=True, simplify=True, single_cls=False, source=None, split=val, stream_buffer=False, task=detect, time=None, tracker=botsort.yaml, translate=0.1, val=True, verbose=True, vid_stride=1, visualize=False, warmup_bias_lr=0.1, warmup_epochs=3.0, warmup_momentum=0.8, weight_decay=0.0005, workers=8, workspace=None\n",
            "Downloading https://ultralytics.com/assets/Arial.ttf to '/root/.config/Ultralytics/Arial.ttf'...\n"
          ]
        },
        {
          "metadata": {
            "tags": null
          },
          "name": "stderr",
          "output_type": "stream",
          "text": [
            "100%|██████████| 755k/755k [00:00<00:00, 24.4MB/s]"
          ]
        },
        {
          "metadata": {
            "tags": null
          },
          "name": "stdout",
          "output_type": "stream",
          "text": [
            "Overriding model.yaml nc=80 with nc=1\n",
            "\n",
            "                   from  n    params  module                                       arguments                     \n",
            "  0                  -1  1       464  ultralytics.nn.modules.conv.Conv             [3, 16, 3, 2]                 \n",
            "  1                  -1  1      4672  ultralytics.nn.modules.conv.Conv             [16, 32, 3, 2]                \n",
            "  2                  -1  1      7360  ultralytics.nn.modules.block.C2f             [32, 32, 1, True]             \n",
            "  3                  -1  1     18560  ultralytics.nn.modules.conv.Conv             [32, 64, 3, 2]                \n",
            "  4                  -1  2     49664  ultralytics.nn.modules.block.C2f             [64, 64, 2, True]             \n",
            "  5                  -1  1     73984  ultralytics.nn.modules.conv.Conv             [64, 128, 3, 2]               \n",
            "  6                  -1  2    197632  ultralytics.nn.modules.block.C2f             [128, 128, 2, True]           \n",
            "  7                  -1  1    295424  ultralytics.nn.modules.conv.Conv             [128, 256, 3, 2]              \n",
            "  8                  -1  1    460288  ultralytics.nn.modules.block.C2f             [256, 256, 1, True]           \n",
            "  9                  -1  1    164608  ultralytics.nn.modules.block.SPPF            [256, 256, 5]                 \n",
            " 10                  -1  1         0  torch.nn.modules.upsampling.Upsample         [None, 2, 'nearest']          \n",
            " 11             [-1, 6]  1         0  ultralytics.nn.modules.conv.Concat           [1]                           \n",
            " 12                  -1  1    148224  ultralytics.nn.modules.block.C2f             [384, 128, 1]                 \n",
            " 13                  -1  1         0  torch.nn.modules.upsampling.Upsample         [None, 2, 'nearest']          \n",
            " 14             [-1, 4]  1         0  ultralytics.nn.modules.conv.Concat           [1]                           \n",
            " 15                  -1  1     37248  ultralytics.nn.modules.block.C2f             [192, 64, 1]                  \n",
            " 16                  -1  1     36992  ultralytics.nn.modules.conv.Conv             [64, 64, 3, 2]                \n",
            " 17            [-1, 12]  1         0  ultralytics.nn.modules.conv.Concat           [1]                           \n",
            " 18                  -1  1    123648  ultralytics.nn.modules.block.C2f             [192, 128, 1]                 \n",
            " 19                  -1  1    147712  ultralytics.nn.modules.conv.Conv             [128, 128, 3, 2]              \n",
            " 20             [-1, 9]  1         0  ultralytics.nn.modules.conv.Concat           [1]                           \n",
            " 21                  -1  1    493056  ultralytics.nn.modules.block.C2f             [384, 256, 1]                 \n",
            " 22        [15, 18, 21]  1    751507  ultralytics.nn.modules.head.Detect           [1, [64, 128, 256]]           \n"
          ]
        },
        {
          "metadata": {
            "tags": null
          },
          "name": "stderr",
          "output_type": "stream",
          "text": [
            "\n"
          ]
        },
        {
          "metadata": {
            "tags": null
          },
          "name": "stdout",
          "output_type": "stream",
          "text": [
            "YOLOv8n summary: 129 layers, 3,011,043 parameters, 3,011,027 gradients, 8.2 GFLOPs\n",
            "\n",
            "Freezing layer 'model.22.dfl.conv.weight'\n",
            "\u001b[34m\u001b[1mAMP: \u001b[0mrunning Automatic Mixed Precision (AMP) checks...\n",
            "Downloading https://github.com/ultralytics/assets/releases/download/v8.3.0/yolo11n.pt to 'yolo11n.pt'...\n"
          ]
        },
        {
          "metadata": {
            "tags": null
          },
          "name": "stderr",
          "output_type": "stream",
          "text": [
            "100%|██████████| 5.35M/5.35M [00:00<00:00, 80.0MB/s]\n"
          ]
        },
        {
          "metadata": {
            "tags": null
          },
          "name": "stdout",
          "output_type": "stream",
          "text": [
            "\u001b[34m\u001b[1mAMP: \u001b[0mchecks passed ✅\n",
            "\u001b[34m\u001b[1mtrain: \u001b[0mFast image access ✅ (ping: 0.0±0.0 ms, read: 51.8±21.5 MB/s, size: 101.9 KB)\n"
          ]
        },
        {
          "metadata": {
            "tags": null
          },
          "name": "stderr",
          "output_type": "stream",
          "text": [
            "\u001b[34m\u001b[1mtrain: \u001b[0mScanning /content/Dataset/Wider_Face_Dataset/labels/train... 12876 images, 8 backgrounds, 1 corrupt: 100%|██████████| 12880/12880 [00:30<00:00, 421.68it/s]"
          ]
        },
        {
          "metadata": {
            "tags": null
          },
          "name": "stdout",
          "output_type": "stream",
          "text": [
            "\u001b[34m\u001b[1mtrain: \u001b[0m/content/Dataset/Wider_Face_Dataset/images/train/2_Demonstration_Protesters_2_231.jpg: 1 duplicate labels removed\n",
            "\u001b[34m\u001b[1mtrain: \u001b[0m/content/Dataset/Wider_Face_Dataset/images/train/37_Soccer_Soccer_37_851.jpg: 1 duplicate labels removed\n",
            "\u001b[34m\u001b[1mtrain: \u001b[0m/content/Dataset/Wider_Face_Dataset/images/train/54_Rescue_rescuepeople_54_29.jpg: ignoring corrupt image/label: non-normalized or out of bounds coordinates [     1.0254]\n",
            "\u001b[34m\u001b[1mtrain: \u001b[0m/content/Dataset/Wider_Face_Dataset/images/train/7_Cheering_Cheering_7_17.jpg: 1 duplicate labels removed\n"
          ]
        },
        {
          "metadata": {
            "tags": null
          },
          "name": "stderr",
          "output_type": "stream",
          "text": [
            "\n"
          ]
        },
        {
          "metadata": {
            "tags": null
          },
          "name": "stdout",
          "output_type": "stream",
          "text": [
            "\u001b[34m\u001b[1mtrain: \u001b[0mNew cache created: /content/Dataset/Wider_Face_Dataset/labels/train.cache\n",
            "\u001b[34m\u001b[1malbumentations: \u001b[0mBlur(p=0.01, blur_limit=(3, 7)), MedianBlur(p=0.01, blur_limit=(3, 7)), ToGray(p=0.01, method='weighted_average', num_output_channels=3), CLAHE(p=0.01, clip_limit=(1.0, 4.0), tile_grid_size=(8, 8))\n",
            "\u001b[34m\u001b[1mval: \u001b[0mFast image access ✅ (ping: 0.0±0.0 ms, read: 29.7±8.2 MB/s, size: 99.9 KB)\n"
          ]
        },
        {
          "metadata": {
            "tags": null
          },
          "name": "stderr",
          "output_type": "stream",
          "text": [
            "\u001b[34m\u001b[1mval: \u001b[0mScanning /content/Dataset/Wider_Face_Dataset/labels/val... 3226 images, 0 backgrounds, 0 corrupt: 100%|██████████| 3226/3226 [00:08<00:00, 389.10it/s]"
          ]
        },
        {
          "metadata": {
            "tags": null
          },
          "name": "stdout",
          "output_type": "stream",
          "text": [
            "\u001b[34m\u001b[1mval: \u001b[0m/content/Dataset/Wider_Face_Dataset/images/val/21_Festival_Festival_21_604.jpg: 1 duplicate labels removed\n",
            "\u001b[34m\u001b[1mval: \u001b[0mNew cache created: /content/Dataset/Wider_Face_Dataset/labels/val.cache\n"
          ]
        },
        {
          "metadata": {
            "tags": null
          },
          "name": "stderr",
          "output_type": "stream",
          "text": [
            "\n"
          ]
        },
        {
          "metadata": {
            "tags": null
          },
          "name": "stdout",
          "output_type": "stream",
          "text": [
            "Plotting labels to runs/detect/face_yolov83/labels.jpg... \n",
            "\u001b[34m\u001b[1moptimizer:\u001b[0m 'optimizer=auto' found, ignoring 'lr0=0.01' and 'momentum=0.937' and determining best 'optimizer', 'lr0' and 'momentum' automatically... \n",
            "\u001b[34m\u001b[1moptimizer:\u001b[0m AdamW(lr=0.002, momentum=0.9) with parameter groups 57 weight(decay=0.0), 64 weight(decay=0.0005), 63 bias(decay=0.0)\n",
            "Image sizes 640 train, 640 val\n",
            "Using 2 dataloader workers\n",
            "Logging results to \u001b[1mruns/detect/face_yolov83\u001b[0m\n",
            "Starting training for 30 epochs...\n",
            "\n",
            "      Epoch    GPU_mem   box_loss   cls_loss   dfl_loss  Instances       Size\n"
          ]
        },
        {
          "metadata": {
            "tags": null
          },
          "name": "stderr",
          "output_type": "stream",
          "text": [
            "       1/30      11.9G      2.981      2.852      2.384        238        640: 100%|██████████| 805/805 [04:42<00:00,  2.85it/s]\n",
            "                 Class     Images  Instances      Box(P          R      mAP50  mAP50-95): 100%|██████████| 101/101 [00:37<00:00,  2.73it/s]\n"
          ]
        },
        {
          "metadata": {
            "tags": null
          },
          "name": "stdout",
          "output_type": "stream",
          "text": [
            "                   all       3226      39707      0.424      0.229      0.199     0.0782\n",
            "\n",
            "      Epoch    GPU_mem   box_loss   cls_loss   dfl_loss  Instances       Size\n"
          ]
        },
        {
          "metadata": {
            "tags": null
          },
          "name": "stderr",
          "output_type": "stream",
          "text": [
            "       2/30        13G      2.162       1.55      1.426        183        640: 100%|██████████| 805/805 [04:24<00:00,  3.05it/s]\n",
            "                 Class     Images  Instances      Box(P          R      mAP50  mAP50-95): 100%|██████████| 101/101 [00:34<00:00,  2.90it/s]\n"
          ]
        },
        {
          "metadata": {
            "tags": null
          },
          "name": "stdout",
          "output_type": "stream",
          "text": [
            "                   all       3226      39707      0.614      0.321      0.351       0.16\n",
            "\n",
            "      Epoch    GPU_mem   box_loss   cls_loss   dfl_loss  Instances       Size\n"
          ]
        },
        {
          "metadata": {
            "tags": null
          },
          "name": "stderr",
          "output_type": "stream",
          "text": [
            "       3/30      9.43G       1.97      1.317      1.304        159        640: 100%|██████████| 805/805 [04:23<00:00,  3.06it/s]\n",
            "                 Class     Images  Instances      Box(P          R      mAP50  mAP50-95): 100%|██████████| 101/101 [00:35<00:00,  2.89it/s]\n"
          ]
        },
        {
          "metadata": {
            "tags": null
          },
          "name": "stdout",
          "output_type": "stream",
          "text": [
            "                   all       3226      39707      0.652      0.345      0.393      0.191\n",
            "\n",
            "      Epoch    GPU_mem   box_loss   cls_loss   dfl_loss  Instances       Size\n"
          ]
        },
        {
          "metadata": {
            "tags": null
          },
          "name": "stderr",
          "output_type": "stream",
          "text": [
            "       4/30        11G      1.857      1.197      1.256        157        640: 100%|██████████| 805/805 [04:24<00:00,  3.05it/s]\n",
            "                 Class     Images  Instances      Box(P          R      mAP50  mAP50-95): 100%|██████████| 101/101 [00:34<00:00,  2.96it/s]\n"
          ]
        },
        {
          "metadata": {
            "tags": null
          },
          "name": "stdout",
          "output_type": "stream",
          "text": [
            "                   all       3226      39707      0.699      0.399      0.446      0.217\n",
            "\n",
            "      Epoch    GPU_mem   box_loss   cls_loss   dfl_loss  Instances       Size\n"
          ]
        },
        {
          "metadata": {
            "tags": null
          },
          "name": "stderr",
          "output_type": "stream",
          "text": [
            "       5/30      12.4G      1.781       1.11      1.211        642        640: 100%|██████████| 805/805 [04:21<00:00,  3.08it/s]\n",
            "                 Class     Images  Instances      Box(P          R      mAP50  mAP50-95): 100%|██████████| 101/101 [00:32<00:00,  3.09it/s]\n"
          ]
        },
        {
          "metadata": {
            "tags": null
          },
          "name": "stdout",
          "output_type": "stream",
          "text": [
            "                   all       3226      39707      0.724      0.412       0.47      0.234\n",
            "\n",
            "      Epoch    GPU_mem   box_loss   cls_loss   dfl_loss  Instances       Size\n"
          ]
        },
        {
          "metadata": {
            "tags": null
          },
          "name": "stderr",
          "output_type": "stream",
          "text": [
            "       6/30      14.4G      1.747      1.067      1.194        220        640: 100%|██████████| 805/805 [04:21<00:00,  3.08it/s]\n",
            "                 Class     Images  Instances      Box(P          R      mAP50  mAP50-95): 100%|██████████| 101/101 [00:34<00:00,  2.94it/s]\n"
          ]
        },
        {
          "metadata": {
            "tags": null
          },
          "name": "stdout",
          "output_type": "stream",
          "text": [
            "                   all       3226      39707      0.737      0.419      0.479      0.242\n",
            "\n",
            "      Epoch    GPU_mem   box_loss   cls_loss   dfl_loss  Instances       Size\n"
          ]
        },
        {
          "metadata": {
            "tags": null
          },
          "name": "stderr",
          "output_type": "stream",
          "text": [
            "       7/30      14.5G       1.69      1.021      1.173        258        640: 100%|██████████| 805/805 [04:20<00:00,  3.09it/s]\n",
            "                 Class     Images  Instances      Box(P          R      mAP50  mAP50-95): 100%|██████████| 101/101 [00:32<00:00,  3.07it/s]\n"
          ]
        },
        {
          "metadata": {
            "tags": null
          },
          "name": "stdout",
          "output_type": "stream",
          "text": [
            "                   all       3226      39707      0.746      0.438        0.5      0.253\n",
            "\n",
            "      Epoch    GPU_mem   box_loss   cls_loss   dfl_loss  Instances       Size\n"
          ]
        },
        {
          "metadata": {
            "tags": null
          },
          "name": "stderr",
          "output_type": "stream",
          "text": [
            "       8/30      9.46G      1.672     0.9952       1.17        611        640: 100%|██████████| 805/805 [04:17<00:00,  3.12it/s]\n",
            "                 Class     Images  Instances      Box(P          R      mAP50  mAP50-95): 100%|██████████| 101/101 [00:32<00:00,  3.06it/s]\n"
          ]
        },
        {
          "metadata": {
            "tags": null
          },
          "name": "stdout",
          "output_type": "stream",
          "text": [
            "                   all       3226      39707      0.747      0.446       0.51      0.262\n",
            "\n",
            "      Epoch    GPU_mem   box_loss   cls_loss   dfl_loss  Instances       Size\n"
          ]
        },
        {
          "metadata": {
            "tags": null
          },
          "name": "stderr",
          "output_type": "stream",
          "text": [
            "       9/30        11G      1.658     0.9711      1.153        197        640: 100%|██████████| 805/805 [04:19<00:00,  3.10it/s]\n",
            "                 Class     Images  Instances      Box(P          R      mAP50  mAP50-95): 100%|██████████| 101/101 [00:34<00:00,  2.97it/s]\n"
          ]
        },
        {
          "metadata": {
            "tags": null
          },
          "name": "stdout",
          "output_type": "stream",
          "text": [
            "                   all       3226      39707      0.769      0.453      0.525      0.272\n",
            "\n",
            "      Epoch    GPU_mem   box_loss   cls_loss   dfl_loss  Instances       Size\n"
          ]
        },
        {
          "metadata": {
            "tags": null
          },
          "name": "stderr",
          "output_type": "stream",
          "text": [
            "      10/30       8.9G      1.633     0.9495      1.146        325        640: 100%|██████████| 805/805 [04:19<00:00,  3.11it/s]\n",
            "                 Class     Images  Instances      Box(P          R      mAP50  mAP50-95): 100%|██████████| 101/101 [00:33<00:00,  3.00it/s]\n"
          ]
        },
        {
          "metadata": {
            "tags": null
          },
          "name": "stdout",
          "output_type": "stream",
          "text": [
            "                   all       3226      39707      0.778      0.463      0.535      0.277\n",
            "\n",
            "      Epoch    GPU_mem   box_loss   cls_loss   dfl_loss  Instances       Size\n"
          ]
        },
        {
          "metadata": {
            "tags": null
          },
          "name": "stderr",
          "output_type": "stream",
          "text": [
            "      11/30      8.07G      1.608     0.9261      1.139         92        640: 100%|██████████| 805/805 [04:19<00:00,  3.10it/s]\n",
            "                 Class     Images  Instances      Box(P          R      mAP50  mAP50-95): 100%|██████████| 101/101 [00:33<00:00,  3.03it/s]\n"
          ]
        },
        {
          "metadata": {
            "tags": null
          },
          "name": "stdout",
          "output_type": "stream",
          "text": [
            "                   all       3226      39707      0.787      0.472      0.543      0.282\n",
            "\n",
            "      Epoch    GPU_mem   box_loss   cls_loss   dfl_loss  Instances       Size\n"
          ]
        },
        {
          "metadata": {
            "tags": null
          },
          "name": "stderr",
          "output_type": "stream",
          "text": [
            "      12/30      13.7G      1.615     0.9211      1.137        433        640: 100%|██████████| 805/805 [04:20<00:00,  3.09it/s]\n",
            "                 Class     Images  Instances      Box(P          R      mAP50  mAP50-95): 100%|██████████| 101/101 [00:33<00:00,  3.02it/s]\n"
          ]
        },
        {
          "metadata": {
            "tags": null
          },
          "name": "stdout",
          "output_type": "stream",
          "text": [
            "                   all       3226      39707      0.764      0.471      0.539      0.284\n",
            "\n",
            "      Epoch    GPU_mem   box_loss   cls_loss   dfl_loss  Instances       Size\n"
          ]
        },
        {
          "metadata": {
            "tags": null
          },
          "name": "stderr",
          "output_type": "stream",
          "text": [
            "      13/30      8.75G      1.589     0.9015      1.127        199        640: 100%|██████████| 805/805 [04:20<00:00,  3.09it/s]\n",
            "                 Class     Images  Instances      Box(P          R      mAP50  mAP50-95): 100%|██████████| 101/101 [00:33<00:00,  3.05it/s]\n"
          ]
        },
        {
          "metadata": {
            "tags": null
          },
          "name": "stdout",
          "output_type": "stream",
          "text": [
            "                   all       3226      39707       0.78      0.473      0.541      0.285\n",
            "\n",
            "      Epoch    GPU_mem   box_loss   cls_loss   dfl_loss  Instances       Size\n"
          ]
        },
        {
          "metadata": {
            "tags": null
          },
          "name": "stderr",
          "output_type": "stream",
          "text": [
            "      14/30      10.9G      1.579     0.8874       1.12        248        640: 100%|██████████| 805/805 [04:17<00:00,  3.13it/s]\n",
            "                 Class     Images  Instances      Box(P          R      mAP50  mAP50-95): 100%|██████████| 101/101 [00:34<00:00,  2.95it/s]\n"
          ]
        },
        {
          "metadata": {
            "tags": null
          },
          "name": "stdout",
          "output_type": "stream",
          "text": [
            "                   all       3226      39707      0.785      0.484      0.557      0.292\n",
            "\n",
            "      Epoch    GPU_mem   box_loss   cls_loss   dfl_loss  Instances       Size\n"
          ]
        },
        {
          "metadata": {
            "tags": null
          },
          "name": "stderr",
          "output_type": "stream",
          "text": [
            "      15/30      14.1G       1.57      0.881      1.117        216        640: 100%|██████████| 805/805 [04:17<00:00,  3.12it/s]\n",
            "                 Class     Images  Instances      Box(P          R      mAP50  mAP50-95): 100%|██████████| 101/101 [00:33<00:00,  3.00it/s]\n"
          ]
        },
        {
          "metadata": {
            "tags": null
          },
          "name": "stdout",
          "output_type": "stream",
          "text": [
            "                   all       3226      39707      0.775      0.494      0.558      0.291\n",
            "\n",
            "      Epoch    GPU_mem   box_loss   cls_loss   dfl_loss  Instances       Size\n"
          ]
        },
        {
          "output_type": "stream",
          "name": "stderr",
          "text": [
            "      16/30      11.9G      1.561     0.8704      1.112        167        640: 100%|██████████| 805/805 [04:17<00:00,  3.13it/s]\n",
            "                 Class     Images  Instances      Box(P          R      mAP50  mAP50-95): 100%|██████████| 101/101 [00:32<00:00,  3.10it/s]\n"
          ]
        },
        {
          "output_type": "stream",
          "name": "stdout",
          "text": [
            "                   all       3226      39707      0.791        0.5       0.57      0.298\n",
            "\n",
            "      Epoch    GPU_mem   box_loss   cls_loss   dfl_loss  Instances       Size\n"
          ]
        },
        {
          "output_type": "stream",
          "name": "stderr",
          "text": [
            "      17/30      14.5G      1.554     0.8573      1.108        232        640: 100%|██████████| 805/805 [04:18<00:00,  3.12it/s]\n",
            "                 Class     Images  Instances      Box(P          R      mAP50  mAP50-95): 100%|██████████| 101/101 [00:32<00:00,  3.09it/s]\n"
          ]
        },
        {
          "output_type": "stream",
          "name": "stdout",
          "text": [
            "                   all       3226      39707      0.791      0.497      0.568      0.295\n",
            "\n",
            "      Epoch    GPU_mem   box_loss   cls_loss   dfl_loss  Instances       Size\n"
          ]
        },
        {
          "output_type": "stream",
          "name": "stderr",
          "text": [
            "      18/30       9.8G      1.541     0.8452      1.104        256        640: 100%|██████████| 805/805 [04:19<00:00,  3.10it/s]\n",
            "                 Class     Images  Instances      Box(P          R      mAP50  mAP50-95): 100%|██████████| 101/101 [00:34<00:00,  2.94it/s]\n"
          ]
        },
        {
          "output_type": "stream",
          "name": "stdout",
          "text": [
            "                   all       3226      39707      0.798      0.505      0.577      0.305\n",
            "\n",
            "      Epoch    GPU_mem   box_loss   cls_loss   dfl_loss  Instances       Size\n"
          ]
        },
        {
          "output_type": "stream",
          "name": "stderr",
          "text": [
            "      19/30      9.08G      1.543     0.8406      1.103        266        640: 100%|██████████| 805/805 [04:23<00:00,  3.06it/s]\n",
            "                 Class     Images  Instances      Box(P          R      mAP50  mAP50-95): 100%|██████████| 101/101 [00:33<00:00,  3.05it/s]\n"
          ]
        },
        {
          "output_type": "stream",
          "name": "stdout",
          "text": [
            "                   all       3226      39707      0.799      0.504      0.574      0.304\n",
            "\n",
            "      Epoch    GPU_mem   box_loss   cls_loss   dfl_loss  Instances       Size\n"
          ]
        },
        {
          "output_type": "stream",
          "name": "stderr",
          "text": [
            "      20/30      10.6G      1.523     0.8275      1.097        174        640: 100%|██████████| 805/805 [04:19<00:00,  3.10it/s]\n",
            "                 Class     Images  Instances      Box(P          R      mAP50  mAP50-95): 100%|██████████| 101/101 [00:33<00:00,  3.03it/s]\n"
          ]
        },
        {
          "output_type": "stream",
          "name": "stdout",
          "text": [
            "                   all       3226      39707       0.81      0.503       0.58      0.308\n",
            "Closing dataloader mosaic\n",
            "\u001b[34m\u001b[1malbumentations: \u001b[0mBlur(p=0.01, blur_limit=(3, 7)), MedianBlur(p=0.01, blur_limit=(3, 7)), ToGray(p=0.01, method='weighted_average', num_output_channels=3), CLAHE(p=0.01, clip_limit=(1.0, 4.0), tile_grid_size=(8, 8))\n",
            "\n",
            "      Epoch    GPU_mem   box_loss   cls_loss   dfl_loss  Instances       Size\n"
          ]
        },
        {
          "output_type": "stream",
          "name": "stderr",
          "text": [
            "      21/30      14.4G      1.484     0.7906      1.103        261        640: 100%|██████████| 805/805 [04:09<00:00,  3.23it/s]\n",
            "                 Class     Images  Instances      Box(P          R      mAP50  mAP50-95): 100%|██████████| 101/101 [00:32<00:00,  3.11it/s]\n"
          ]
        },
        {
          "output_type": "stream",
          "name": "stdout",
          "text": [
            "                   all       3226      39707      0.808      0.505      0.577      0.307\n",
            "\n",
            "      Epoch    GPU_mem   box_loss   cls_loss   dfl_loss  Instances       Size\n"
          ]
        },
        {
          "output_type": "stream",
          "name": "stderr",
          "text": [
            "      22/30      14.5G      1.473     0.7795      1.095        233        640: 100%|██████████| 805/805 [04:07<00:00,  3.25it/s]\n",
            "                 Class     Images  Instances      Box(P          R      mAP50  mAP50-95): 100%|██████████| 101/101 [00:33<00:00,  3.05it/s]\n"
          ]
        },
        {
          "output_type": "stream",
          "name": "stdout",
          "text": [
            "                   all       3226      39707      0.803      0.511      0.583       0.31\n",
            "\n",
            "      Epoch    GPU_mem   box_loss   cls_loss   dfl_loss  Instances       Size\n"
          ]
        },
        {
          "output_type": "stream",
          "name": "stderr",
          "text": [
            "      23/30      7.44G      1.463     0.7695      1.096        342        640: 100%|██████████| 805/805 [04:08<00:00,  3.24it/s]\n",
            "                 Class     Images  Instances      Box(P          R      mAP50  mAP50-95): 100%|██████████| 101/101 [00:34<00:00,  2.91it/s]\n"
          ]
        },
        {
          "output_type": "stream",
          "name": "stdout",
          "text": [
            "                   all       3226      39707      0.801      0.509      0.582      0.309\n",
            "\n",
            "      Epoch    GPU_mem   box_loss   cls_loss   dfl_loss  Instances       Size\n"
          ]
        },
        {
          "output_type": "stream",
          "name": "stderr",
          "text": [
            "      24/30      9.92G      1.463     0.7616      1.093         95        640: 100%|██████████| 805/805 [04:09<00:00,  3.23it/s]\n",
            "                 Class     Images  Instances      Box(P          R      mAP50  mAP50-95): 100%|██████████| 101/101 [00:32<00:00,  3.09it/s]\n"
          ]
        },
        {
          "output_type": "stream",
          "name": "stdout",
          "text": [
            "                   all       3226      39707      0.811      0.511      0.587      0.311\n",
            "\n",
            "      Epoch    GPU_mem   box_loss   cls_loss   dfl_loss  Instances       Size\n"
          ]
        },
        {
          "output_type": "stream",
          "name": "stderr",
          "text": [
            "      25/30      13.6G      1.449     0.7515      1.088        130        640: 100%|██████████| 805/805 [04:09<00:00,  3.23it/s]\n",
            "                 Class     Images  Instances      Box(P          R      mAP50  mAP50-95): 100%|██████████| 101/101 [00:33<00:00,  3.00it/s]\n"
          ]
        },
        {
          "output_type": "stream",
          "name": "stdout",
          "text": [
            "                   all       3226      39707      0.813      0.516      0.591      0.315\n",
            "\n",
            "      Epoch    GPU_mem   box_loss   cls_loss   dfl_loss  Instances       Size\n"
          ]
        },
        {
          "output_type": "stream",
          "name": "stderr",
          "text": [
            "      26/30      9.63G      1.447      0.748       1.08        332        640: 100%|██████████| 805/805 [04:10<00:00,  3.21it/s]\n",
            "                 Class     Images  Instances      Box(P          R      mAP50  mAP50-95): 100%|██████████| 101/101 [00:33<00:00,  3.02it/s]\n"
          ]
        },
        {
          "output_type": "stream",
          "name": "stdout",
          "text": [
            "                   all       3226      39707      0.807      0.518      0.592      0.315\n",
            "\n",
            "      Epoch    GPU_mem   box_loss   cls_loss   dfl_loss  Instances       Size\n"
          ]
        },
        {
          "output_type": "stream",
          "name": "stderr",
          "text": [
            "      27/30      9.26G       1.44     0.7397      1.082        213        640: 100%|██████████| 805/805 [04:10<00:00,  3.21it/s]\n",
            "                 Class     Images  Instances      Box(P          R      mAP50  mAP50-95): 100%|██████████| 101/101 [00:34<00:00,  2.96it/s]\n"
          ]
        },
        {
          "output_type": "stream",
          "name": "stdout",
          "text": [
            "                   all       3226      39707      0.809       0.52      0.594      0.319\n",
            "\n",
            "      Epoch    GPU_mem   box_loss   cls_loss   dfl_loss  Instances       Size\n"
          ]
        },
        {
          "output_type": "stream",
          "name": "stderr",
          "text": [
            "      28/30      13.2G      1.427     0.7307      1.078        114        640: 100%|██████████| 805/805 [04:12<00:00,  3.19it/s]\n",
            "                 Class     Images  Instances      Box(P          R      mAP50  mAP50-95): 100%|██████████| 101/101 [00:34<00:00,  2.93it/s]\n"
          ]
        },
        {
          "output_type": "stream",
          "name": "stdout",
          "text": [
            "                   all       3226      39707      0.807       0.52      0.592      0.316\n",
            "\n",
            "      Epoch    GPU_mem   box_loss   cls_loss   dfl_loss  Instances       Size\n"
          ]
        },
        {
          "output_type": "stream",
          "name": "stderr",
          "text": [
            "      29/30      14.4G      1.423     0.7259      1.073        185        640: 100%|██████████| 805/805 [04:11<00:00,  3.20it/s]\n",
            "                 Class     Images  Instances      Box(P          R      mAP50  mAP50-95): 100%|██████████| 101/101 [00:33<00:00,  2.99it/s]\n"
          ]
        },
        {
          "output_type": "stream",
          "name": "stdout",
          "text": [
            "                   all       3226      39707       0.81      0.521      0.594      0.318\n",
            "\n",
            "      Epoch    GPU_mem   box_loss   cls_loss   dfl_loss  Instances       Size\n"
          ]
        },
        {
          "output_type": "stream",
          "name": "stderr",
          "text": [
            "      30/30      14.4G      1.416     0.7188      1.069         69        640: 100%|██████████| 805/805 [04:09<00:00,  3.22it/s]\n",
            "                 Class     Images  Instances      Box(P          R      mAP50  mAP50-95): 100%|██████████| 101/101 [00:34<00:00,  2.97it/s]\n"
          ]
        },
        {
          "output_type": "stream",
          "name": "stdout",
          "text": [
            "                   all       3226      39707      0.809      0.522      0.597       0.32\n",
            "\n",
            "30 epochs completed in 2.455 hours.\n",
            "Optimizer stripped from runs/detect/face_yolov83/weights/last.pt, 6.2MB\n",
            "Optimizer stripped from runs/detect/face_yolov83/weights/best.pt, 6.2MB\n",
            "\n",
            "Validating runs/detect/face_yolov83/weights/best.pt...\n",
            "Ultralytics 8.3.167 🚀 Python-3.11.13 torch-2.6.0+cu124 CUDA:0 (Tesla T4, 15095MiB)\n",
            "YOLOv8n summary (fused): 72 layers, 3,005,843 parameters, 0 gradients, 8.1 GFLOPs\n"
          ]
        },
        {
          "output_type": "stream",
          "name": "stderr",
          "text": [
            "                 Class     Images  Instances      Box(P          R      mAP50  mAP50-95): 100%|██████████| 101/101 [00:33<00:00,  3.01it/s]\n"
          ]
        },
        {
          "output_type": "stream",
          "name": "stdout",
          "text": [
            "                   all       3226      39707       0.81      0.522      0.597       0.32\n",
            "Speed: 0.2ms preprocess, 1.9ms inference, 0.0ms loss, 2.3ms postprocess per image\n",
            "Results saved to \u001b[1mruns/detect/face_yolov83\u001b[0m\n"
          ]
        },
        {
          "output_type": "execute_result",
          "data": {
            "text/plain": [
              "ultralytics.utils.metrics.DetMetrics object with attributes:\n",
              "\n",
              "ap_class_index: array([0])\n",
              "box: ultralytics.utils.metrics.Metric object\n",
              "confusion_matrix: <ultralytics.utils.metrics.ConfusionMatrix object at 0x7fa554d5c1d0>\n",
              "curves: ['Precision-Recall(B)', 'F1-Confidence(B)', 'Precision-Confidence(B)', 'Recall-Confidence(B)']\n",
              "curves_results: [[array([          0,    0.001001,    0.002002,    0.003003,    0.004004,    0.005005,    0.006006,    0.007007,    0.008008,    0.009009,     0.01001,    0.011011,    0.012012,    0.013013,    0.014014,    0.015015,    0.016016,    0.017017,    0.018018,    0.019019,     0.02002,    0.021021,    0.022022,    0.023023,\n",
              "          0.024024,    0.025025,    0.026026,    0.027027,    0.028028,    0.029029,     0.03003,    0.031031,    0.032032,    0.033033,    0.034034,    0.035035,    0.036036,    0.037037,    0.038038,    0.039039,     0.04004,    0.041041,    0.042042,    0.043043,    0.044044,    0.045045,    0.046046,    0.047047,\n",
              "          0.048048,    0.049049,     0.05005,    0.051051,    0.052052,    0.053053,    0.054054,    0.055055,    0.056056,    0.057057,    0.058058,    0.059059,     0.06006,    0.061061,    0.062062,    0.063063,    0.064064,    0.065065,    0.066066,    0.067067,    0.068068,    0.069069,     0.07007,    0.071071,\n",
              "          0.072072,    0.073073,    0.074074,    0.075075,    0.076076,    0.077077,    0.078078,    0.079079,     0.08008,    0.081081,    0.082082,    0.083083,    0.084084,    0.085085,    0.086086,    0.087087,    0.088088,    0.089089,     0.09009,    0.091091,    0.092092,    0.093093,    0.094094,    0.095095,\n",
              "          0.096096,    0.097097,    0.098098,    0.099099,      0.1001,      0.1011,      0.1021,      0.1031,      0.1041,     0.10511,     0.10611,     0.10711,     0.10811,     0.10911,     0.11011,     0.11111,     0.11211,     0.11311,     0.11411,     0.11512,     0.11612,     0.11712,     0.11812,     0.11912,\n",
              "           0.12012,     0.12112,     0.12212,     0.12312,     0.12412,     0.12513,     0.12613,     0.12713,     0.12813,     0.12913,     0.13013,     0.13113,     0.13213,     0.13313,     0.13413,     0.13514,     0.13614,     0.13714,     0.13814,     0.13914,     0.14014,     0.14114,     0.14214,     0.14314,\n",
              "           0.14414,     0.14515,     0.14615,     0.14715,     0.14815,     0.14915,     0.15015,     0.15115,     0.15215,     0.15315,     0.15415,     0.15516,     0.15616,     0.15716,     0.15816,     0.15916,     0.16016,     0.16116,     0.16216,     0.16316,     0.16416,     0.16517,     0.16617,     0.16717,\n",
              "           0.16817,     0.16917,     0.17017,     0.17117,     0.17217,     0.17317,     0.17417,     0.17518,     0.17618,     0.17718,     0.17818,     0.17918,     0.18018,     0.18118,     0.18218,     0.18318,     0.18418,     0.18519,     0.18619,     0.18719,     0.18819,     0.18919,     0.19019,     0.19119,\n",
              "           0.19219,     0.19319,     0.19419,      0.1952,      0.1962,      0.1972,      0.1982,      0.1992,      0.2002,      0.2012,      0.2022,      0.2032,      0.2042,     0.20521,     0.20621,     0.20721,     0.20821,     0.20921,     0.21021,     0.21121,     0.21221,     0.21321,     0.21421,     0.21522,\n",
              "           0.21622,     0.21722,     0.21822,     0.21922,     0.22022,     0.22122,     0.22222,     0.22322,     0.22422,     0.22523,     0.22623,     0.22723,     0.22823,     0.22923,     0.23023,     0.23123,     0.23223,     0.23323,     0.23423,     0.23524,     0.23624,     0.23724,     0.23824,     0.23924,\n",
              "           0.24024,     0.24124,     0.24224,     0.24324,     0.24424,     0.24525,     0.24625,     0.24725,     0.24825,     0.24925,     0.25025,     0.25125,     0.25225,     0.25325,     0.25425,     0.25526,     0.25626,     0.25726,     0.25826,     0.25926,     0.26026,     0.26126,     0.26226,     0.26326,\n",
              "           0.26426,     0.26527,     0.26627,     0.26727,     0.26827,     0.26927,     0.27027,     0.27127,     0.27227,     0.27327,     0.27427,     0.27528,     0.27628,     0.27728,     0.27828,     0.27928,     0.28028,     0.28128,     0.28228,     0.28328,     0.28428,     0.28529,     0.28629,     0.28729,\n",
              "           0.28829,     0.28929,     0.29029,     0.29129,     0.29229,     0.29329,     0.29429,      0.2953,      0.2963,      0.2973,      0.2983,      0.2993,      0.3003,      0.3013,      0.3023,      0.3033,      0.3043,     0.30531,     0.30631,     0.30731,     0.30831,     0.30931,     0.31031,     0.31131,\n",
              "           0.31231,     0.31331,     0.31431,     0.31532,     0.31632,     0.31732,     0.31832,     0.31932,     0.32032,     0.32132,     0.32232,     0.32332,     0.32432,     0.32533,     0.32633,     0.32733,     0.32833,     0.32933,     0.33033,     0.33133,     0.33233,     0.33333,     0.33433,     0.33534,\n",
              "           0.33634,     0.33734,     0.33834,     0.33934,     0.34034,     0.34134,     0.34234,     0.34334,     0.34434,     0.34535,     0.34635,     0.34735,     0.34835,     0.34935,     0.35035,     0.35135,     0.35235,     0.35335,     0.35435,     0.35536,     0.35636,     0.35736,     0.35836,     0.35936,\n",
              "           0.36036,     0.36136,     0.36236,     0.36336,     0.36436,     0.36537,     0.36637,     0.36737,     0.36837,     0.36937,     0.37037,     0.37137,     0.37237,     0.37337,     0.37437,     0.37538,     0.37638,     0.37738,     0.37838,     0.37938,     0.38038,     0.38138,     0.38238,     0.38338,\n",
              "           0.38438,     0.38539,     0.38639,     0.38739,     0.38839,     0.38939,     0.39039,     0.39139,     0.39239,     0.39339,     0.39439,      0.3954,      0.3964,      0.3974,      0.3984,      0.3994,      0.4004,      0.4014,      0.4024,      0.4034,      0.4044,     0.40541,     0.40641,     0.40741,\n",
              "           0.40841,     0.40941,     0.41041,     0.41141,     0.41241,     0.41341,     0.41441,     0.41542,     0.41642,     0.41742,     0.41842,     0.41942,     0.42042,     0.42142,     0.42242,     0.42342,     0.42442,     0.42543,     0.42643,     0.42743,     0.42843,     0.42943,     0.43043,     0.43143,\n",
              "           0.43243,     0.43343,     0.43443,     0.43544,     0.43644,     0.43744,     0.43844,     0.43944,     0.44044,     0.44144,     0.44244,     0.44344,     0.44444,     0.44545,     0.44645,     0.44745,     0.44845,     0.44945,     0.45045,     0.45145,     0.45245,     0.45345,     0.45445,     0.45546,\n",
              "           0.45646,     0.45746,     0.45846,     0.45946,     0.46046,     0.46146,     0.46246,     0.46346,     0.46446,     0.46547,     0.46647,     0.46747,     0.46847,     0.46947,     0.47047,     0.47147,     0.47247,     0.47347,     0.47447,     0.47548,     0.47648,     0.47748,     0.47848,     0.47948,\n",
              "           0.48048,     0.48148,     0.48248,     0.48348,     0.48448,     0.48549,     0.48649,     0.48749,     0.48849,     0.48949,     0.49049,     0.49149,     0.49249,     0.49349,     0.49449,      0.4955,      0.4965,      0.4975,      0.4985,      0.4995,      0.5005,      0.5015,      0.5025,      0.5035,\n",
              "            0.5045,     0.50551,     0.50651,     0.50751,     0.50851,     0.50951,     0.51051,     0.51151,     0.51251,     0.51351,     0.51451,     0.51552,     0.51652,     0.51752,     0.51852,     0.51952,     0.52052,     0.52152,     0.52252,     0.52352,     0.52452,     0.52553,     0.52653,     0.52753,\n",
              "           0.52853,     0.52953,     0.53053,     0.53153,     0.53253,     0.53353,     0.53453,     0.53554,     0.53654,     0.53754,     0.53854,     0.53954,     0.54054,     0.54154,     0.54254,     0.54354,     0.54454,     0.54555,     0.54655,     0.54755,     0.54855,     0.54955,     0.55055,     0.55155,\n",
              "           0.55255,     0.55355,     0.55455,     0.55556,     0.55656,     0.55756,     0.55856,     0.55956,     0.56056,     0.56156,     0.56256,     0.56356,     0.56456,     0.56557,     0.56657,     0.56757,     0.56857,     0.56957,     0.57057,     0.57157,     0.57257,     0.57357,     0.57457,     0.57558,\n",
              "           0.57658,     0.57758,     0.57858,     0.57958,     0.58058,     0.58158,     0.58258,     0.58358,     0.58458,     0.58559,     0.58659,     0.58759,     0.58859,     0.58959,     0.59059,     0.59159,     0.59259,     0.59359,     0.59459,      0.5956,      0.5966,      0.5976,      0.5986,      0.5996,\n",
              "            0.6006,      0.6016,      0.6026,      0.6036,      0.6046,     0.60561,     0.60661,     0.60761,     0.60861,     0.60961,     0.61061,     0.61161,     0.61261,     0.61361,     0.61461,     0.61562,     0.61662,     0.61762,     0.61862,     0.61962,     0.62062,     0.62162,     0.62262,     0.62362,\n",
              "           0.62462,     0.62563,     0.62663,     0.62763,     0.62863,     0.62963,     0.63063,     0.63163,     0.63263,     0.63363,     0.63463,     0.63564,     0.63664,     0.63764,     0.63864,     0.63964,     0.64064,     0.64164,     0.64264,     0.64364,     0.64464,     0.64565,     0.64665,     0.64765,\n",
              "           0.64865,     0.64965,     0.65065,     0.65165,     0.65265,     0.65365,     0.65465,     0.65566,     0.65666,     0.65766,     0.65866,     0.65966,     0.66066,     0.66166,     0.66266,     0.66366,     0.66466,     0.66567,     0.66667,     0.66767,     0.66867,     0.66967,     0.67067,     0.67167,\n",
              "           0.67267,     0.67367,     0.67467,     0.67568,     0.67668,     0.67768,     0.67868,     0.67968,     0.68068,     0.68168,     0.68268,     0.68368,     0.68468,     0.68569,     0.68669,     0.68769,     0.68869,     0.68969,     0.69069,     0.69169,     0.69269,     0.69369,     0.69469,      0.6957,\n",
              "            0.6967,      0.6977,      0.6987,      0.6997,      0.7007,      0.7017,      0.7027,      0.7037,      0.7047,     0.70571,     0.70671,     0.70771,     0.70871,     0.70971,     0.71071,     0.71171,     0.71271,     0.71371,     0.71471,     0.71572,     0.71672,     0.71772,     0.71872,     0.71972,\n",
              "           0.72072,     0.72172,     0.72272,     0.72372,     0.72472,     0.72573,     0.72673,     0.72773,     0.72873,     0.72973,     0.73073,     0.73173,     0.73273,     0.73373,     0.73473,     0.73574,     0.73674,     0.73774,     0.73874,     0.73974,     0.74074,     0.74174,     0.74274,     0.74374,\n",
              "           0.74474,     0.74575,     0.74675,     0.74775,     0.74875,     0.74975,     0.75075,     0.75175,     0.75275,     0.75375,     0.75475,     0.75576,     0.75676,     0.75776,     0.75876,     0.75976,     0.76076,     0.76176,     0.76276,     0.76376,     0.76476,     0.76577,     0.76677,     0.76777,\n",
              "           0.76877,     0.76977,     0.77077,     0.77177,     0.77277,     0.77377,     0.77477,     0.77578,     0.77678,     0.77778,     0.77878,     0.77978,     0.78078,     0.78178,     0.78278,     0.78378,     0.78478,     0.78579,     0.78679,     0.78779,     0.78879,     0.78979,     0.79079,     0.79179,\n",
              "           0.79279,     0.79379,     0.79479,      0.7958,      0.7968,      0.7978,      0.7988,      0.7998,      0.8008,      0.8018,      0.8028,      0.8038,      0.8048,     0.80581,     0.80681,     0.80781,     0.80881,     0.80981,     0.81081,     0.81181,     0.81281,     0.81381,     0.81481,     0.81582,\n",
              "           0.81682,     0.81782,     0.81882,     0.81982,     0.82082,     0.82182,     0.82282,     0.82382,     0.82482,     0.82583,     0.82683,     0.82783,     0.82883,     0.82983,     0.83083,     0.83183,     0.83283,     0.83383,     0.83483,     0.83584,     0.83684,     0.83784,     0.83884,     0.83984,\n",
              "           0.84084,     0.84184,     0.84284,     0.84384,     0.84484,     0.84585,     0.84685,     0.84785,     0.84885,     0.84985,     0.85085,     0.85185,     0.85285,     0.85385,     0.85485,     0.85586,     0.85686,     0.85786,     0.85886,     0.85986,     0.86086,     0.86186,     0.86286,     0.86386,\n",
              "           0.86486,     0.86587,     0.86687,     0.86787,     0.86887,     0.86987,     0.87087,     0.87187,     0.87287,     0.87387,     0.87487,     0.87588,     0.87688,     0.87788,     0.87888,     0.87988,     0.88088,     0.88188,     0.88288,     0.88388,     0.88488,     0.88589,     0.88689,     0.88789,\n",
              "           0.88889,     0.88989,     0.89089,     0.89189,     0.89289,     0.89389,     0.89489,      0.8959,      0.8969,      0.8979,      0.8989,      0.8999,      0.9009,      0.9019,      0.9029,      0.9039,      0.9049,     0.90591,     0.90691,     0.90791,     0.90891,     0.90991,     0.91091,     0.91191,\n",
              "           0.91291,     0.91391,     0.91491,     0.91592,     0.91692,     0.91792,     0.91892,     0.91992,     0.92092,     0.92192,     0.92292,     0.92392,     0.92492,     0.92593,     0.92693,     0.92793,     0.92893,     0.92993,     0.93093,     0.93193,     0.93293,     0.93393,     0.93493,     0.93594,\n",
              "           0.93694,     0.93794,     0.93894,     0.93994,     0.94094,     0.94194,     0.94294,     0.94394,     0.94494,     0.94595,     0.94695,     0.94795,     0.94895,     0.94995,     0.95095,     0.95195,     0.95295,     0.95395,     0.95495,     0.95596,     0.95696,     0.95796,     0.95896,     0.95996,\n",
              "           0.96096,     0.96196,     0.96296,     0.96396,     0.96496,     0.96597,     0.96697,     0.96797,     0.96897,     0.96997,     0.97097,     0.97197,     0.97297,     0.97397,     0.97497,     0.97598,     0.97698,     0.97798,     0.97898,     0.97998,     0.98098,     0.98198,     0.98298,     0.98398,\n",
              "           0.98498,     0.98599,     0.98699,     0.98799,     0.98899,     0.98999,     0.99099,     0.99199,     0.99299,     0.99399,     0.99499,       0.996,       0.997,       0.998,       0.999,           1]), array([[          1,           1,           1,           1,           1,           1,           1,           1,           1,           1,           1,           1,           1,           1,           1,           1,           1,           1,           1,           1,           1,           1,           1,\n",
              "                  1,           1,           1,           1,           1,           1,           1,           1,           1,           1,           1,           1,           1,           1,           1,           1,           1,           1,           1,           1,           1,           1,     0.99968,\n",
              "            0.99968,     0.99968,     0.99968,     0.99968,     0.99968,     0.99968,     0.99968,     0.99968,     0.99968,     0.99968,     0.99968,     0.99968,     0.99968,     0.99968,     0.99968,     0.99968,     0.99968,     0.99968,     0.99968,     0.99968,     0.99968,     0.99968,     0.99968,\n",
              "            0.99968,     0.99968,     0.99968,     0.99968,     0.99968,     0.99968,     0.99968,     0.99968,     0.99968,     0.99968,     0.99968,     0.99961,     0.99961,     0.99961,     0.99961,     0.99961,     0.99961,     0.99961,     0.99961,     0.99961,     0.99961,     0.99961,     0.99961,\n",
              "            0.99961,     0.99961,     0.99961,     0.99961,     0.99961,     0.99961,     0.99961,     0.99961,     0.99961,     0.99961,     0.99961,     0.99961,     0.99961,     0.99961,     0.99961,     0.99961,     0.99961,     0.99961,     0.99961,     0.99961,     0.99961,     0.99961,     0.99961,\n",
              "            0.99961,     0.99961,     0.99961,     0.99961,     0.99961,     0.99961,     0.99961,     0.99961,     0.99961,     0.99961,     0.99961,     0.99961,     0.99961,     0.99961,     0.99961,     0.99954,     0.99954,     0.99954,     0.99954,     0.99954,     0.99954,     0.99954,     0.99954,\n",
              "            0.99954,     0.99954,     0.99954,     0.99954,     0.99954,     0.99954,     0.99954,     0.99954,     0.99954,     0.99954,     0.99954,     0.99954,     0.99954,     0.99954,     0.99954,     0.99954,     0.99954,     0.99954,     0.99954,     0.99954,     0.99954,     0.99954,     0.99954,\n",
              "            0.99954,     0.99954,     0.99954,     0.99954,      0.9994,      0.9994,     0.99927,     0.99927,     0.99927,     0.99927,     0.99927,     0.99913,     0.99913,     0.99903,     0.99903,     0.99903,     0.99903,     0.99903,     0.99903,     0.99903,     0.99903,      0.9989,      0.9988,\n",
              "             0.9988,      0.9988,      0.9988,      0.9988,      0.9988,      0.9988,     0.99873,     0.99873,     0.99873,     0.99873,     0.99873,     0.99873,     0.99873,     0.99873,     0.99873,     0.99862,     0.99862,     0.99853,     0.99853,     0.99853,     0.99853,     0.99845,     0.99845,\n",
              "            0.99845,     0.99845,     0.99845,     0.99845,     0.99845,     0.99823,     0.99823,     0.99803,     0.99803,     0.99803,     0.99803,     0.99795,     0.99795,     0.99795,     0.99785,     0.99785,     0.99776,     0.99776,     0.99774,     0.99774,     0.99774,     0.99774,     0.99774,\n",
              "            0.99774,     0.99774,     0.99774,     0.99764,     0.99743,     0.99737,     0.99737,     0.99737,     0.99737,     0.99728,     0.99719,     0.99719,     0.99712,     0.99712,     0.99712,     0.99704,     0.99694,     0.99689,     0.99689,     0.99689,     0.99689,     0.99681,     0.99673,\n",
              "            0.99663,     0.99639,     0.99639,     0.99639,      0.9963,     0.99622,     0.99595,     0.99577,     0.99569,     0.99564,     0.99564,     0.99564,     0.99549,     0.99549,     0.99542,     0.99533,     0.99518,     0.99518,     0.99494,     0.99494,     0.99488,     0.99488,     0.99464,\n",
              "            0.99458,     0.99458,     0.99442,      0.9943,      0.9943,     0.99405,     0.99389,     0.99374,     0.99366,     0.99351,     0.99319,     0.99301,     0.99301,     0.99301,     0.99277,     0.99245,     0.99197,     0.99192,     0.99154,     0.99147,     0.99124,     0.99111,     0.99097,\n",
              "            0.99086,     0.99086,     0.99074,     0.99068,     0.99054,     0.99027,     0.99022,     0.99007,     0.98994,     0.98985,     0.98985,     0.98973,     0.98954,     0.98948,     0.98905,     0.98891,     0.98865,     0.98852,     0.98834,      0.9882,     0.98801,     0.98758,     0.98701,\n",
              "            0.98675,     0.98664,     0.98631,     0.98612,     0.98598,     0.98598,     0.98586,     0.98561,     0.98521,     0.98482,      0.9847,     0.98453,     0.98402,     0.98383,     0.98344,     0.98308,     0.98289,     0.98277,     0.98277,     0.98256,     0.98238,     0.98207,     0.98163,\n",
              "            0.98153,     0.98125,     0.98097,     0.98073,      0.9807,     0.98022,     0.97998,     0.97969,     0.97941,     0.97916,       0.979,      0.9788,     0.97842,     0.97792,     0.97788,     0.97734,     0.97693,     0.97648,     0.97612,     0.97573,     0.97522,     0.97494,     0.97461,\n",
              "            0.97378,     0.97327,     0.97309,     0.97253,     0.97246,      0.9724,     0.97208,     0.97167,     0.97109,     0.97067,     0.97017,      0.9695,     0.96915,      0.9688,     0.96859,     0.96821,     0.96773,     0.96698,     0.96662,     0.96621,     0.96576,     0.96524,     0.96491,\n",
              "            0.96456,     0.96406,     0.96361,     0.96293,      0.9626,     0.96217,     0.96138,     0.96083,     0.96017,      0.9598,     0.95909,     0.95873,     0.95819,     0.95789,     0.95719,     0.95655,     0.95541,     0.95457,     0.95383,     0.95343,      0.9531,      0.9524,      0.9516,\n",
              "            0.95068,     0.95012,     0.94947,     0.94872,     0.94781,     0.94684,     0.94621,     0.94527,      0.9447,     0.94355,     0.94252,     0.94185,     0.94131,     0.94038,      0.9398,     0.93889,     0.93841,      0.9374,     0.93673,     0.93596,     0.93507,     0.93439,     0.93386,\n",
              "            0.93353,     0.93276,     0.93225,     0.93121,     0.93047,     0.92972,     0.92869,     0.92836,     0.92761,     0.92662,     0.92508,     0.92408,     0.92285,     0.92165,     0.92047,     0.91902,     0.91798,     0.91702,     0.91579,      0.9149,     0.91382,     0.91267,     0.91184,\n",
              "            0.91057,     0.90994,     0.90884,     0.90794,     0.90652,     0.90554,     0.90481,     0.90366,     0.90218,     0.90123,     0.90016,     0.89927,     0.89805,     0.89605,     0.89442,     0.89272,     0.89102,     0.88964,     0.88855,     0.88692,     0.88563,     0.88428,     0.88335,\n",
              "            0.88178,     0.88046,     0.87887,     0.87711,     0.87519,     0.87344,     0.87169,     0.86994,     0.86804,     0.86686,     0.86544,     0.86396,     0.86218,     0.86017,     0.85839,     0.85677,     0.85496,     0.85292,     0.85089,     0.84863,     0.84748,     0.84611,     0.84461,\n",
              "            0.84105,     0.83907,     0.83677,     0.83541,     0.83366,     0.83126,     0.82977,     0.82739,     0.82562,     0.82414,     0.82218,     0.81994,     0.81735,     0.81503,      0.8125,     0.80999,     0.80773,     0.80505,     0.80256,     0.80041,     0.79801,     0.79613,     0.79442,\n",
              "            0.79243,     0.78999,     0.78754,     0.78455,     0.78192,     0.77953,     0.77675,     0.77478,     0.77289,     0.76973,     0.76657,     0.76392,     0.75934,     0.75521,     0.75215,      0.7489,     0.74437,     0.74235,      0.7401,      0.7371,     0.73355,     0.73014,     0.72604,\n",
              "            0.72298,     0.71903,     0.71659,     0.71184,      0.7092,     0.70619,     0.70365,     0.70005,     0.69699,     0.69329,     0.68981,     0.68582,     0.68184,     0.67797,     0.67465,     0.67148,      0.6676,     0.66434,     0.65929,     0.65546,     0.65251,     0.64836,      0.6428,\n",
              "            0.63762,     0.63372,     0.62978,     0.62542,     0.62047,     0.61625,     0.61212,      0.6076,     0.60364,     0.59923,     0.59451,     0.58979,     0.58423,      0.5789,     0.57508,     0.56993,     0.56343,     0.55716,     0.55211,     0.54761,     0.54424,     0.53908,     0.53481,\n",
              "            0.53037,     0.52535,     0.52061,     0.51407,     0.50886,      0.5045,      0.4985,     0.49181,     0.48512,     0.48012,     0.47503,     0.46981,     0.46421,      0.4573,      0.4512,     0.44373,     0.43839,     0.43321,     0.42736,     0.42248,     0.41634,     0.41088,     0.40407,\n",
              "            0.39872,     0.39196,     0.38398,     0.37928,     0.37354,     0.36608,     0.36096,      0.3554,      0.3487,     0.34376,     0.33949,     0.33274,     0.32477,     0.32036,     0.31474,      0.3065,     0.29988,     0.29158,     0.28476,     0.27762,     0.27299,     0.26636,      0.2601,\n",
              "             0.2545,     0.24695,     0.24169,     0.23499,     0.22987,       0.221,     0.21452,     0.20818,     0.20072,     0.19251,     0.18472,     0.17758,     0.17103,     0.16361,     0.15532,     0.14986,     0.14336,     0.13411,     0.12778,      0.1203,     0.11227,     0.10335,    0.093815,\n",
              "           0.085729,    0.085471,    0.085213,    0.084955,    0.084696,    0.084438,     0.08418,    0.083922,    0.083663,    0.083405,    0.083147,    0.082889,    0.082631,    0.082372,    0.082114,    0.081856,    0.081598,     0.08134,    0.081081,    0.080823,    0.080565,    0.080307,    0.080048,\n",
              "            0.07979,    0.079532,    0.079274,    0.079016,    0.078757,    0.078499,    0.078241,    0.077983,    0.077724,    0.077466,    0.077208,     0.07695,    0.076692,    0.076433,    0.076175,    0.075917,    0.075659,      0.0754,    0.075142,    0.074884,    0.074626,    0.074368,    0.074109,\n",
              "           0.073851,    0.073593,    0.073335,    0.073076,    0.072818,     0.07256,    0.072302,    0.072044,    0.071785,    0.071527,    0.071269,    0.071011,    0.070752,    0.070494,    0.070236,    0.069978,     0.06972,    0.069461,    0.069203,    0.068945,    0.068687,    0.068428,     0.06817,\n",
              "           0.067912,    0.067654,    0.067396,    0.067137,    0.066879,    0.066621,    0.066363,    0.066104,    0.065846,    0.065588,     0.06533,    0.065072,    0.064813,    0.064555,    0.064297,    0.064039,    0.063781,    0.063522,    0.063264,    0.063006,    0.062748,    0.062489,    0.062231,\n",
              "           0.061973,    0.061715,    0.061457,    0.061198,     0.06094,    0.060682,    0.060424,    0.060165,    0.059907,    0.059649,    0.059391,    0.059133,    0.058874,    0.058616,    0.058358,      0.0581,    0.057841,    0.057583,    0.057325,    0.057067,    0.056809,     0.05655,    0.056292,\n",
              "           0.056034,    0.055776,    0.055517,    0.055259,    0.055001,    0.054743,    0.054485,    0.054226,    0.053968,     0.05371,    0.053452,    0.053193,    0.052935,    0.052677,    0.052419,    0.052161,    0.051902,    0.051644,    0.051386,    0.051128,    0.050869,    0.050611,    0.050353,\n",
              "           0.050095,    0.049837,    0.049578,     0.04932,    0.049062,    0.048804,    0.048545,    0.048287,    0.048029,    0.047771,    0.047513,    0.047254,    0.046996,    0.046738,     0.04648,    0.046221,    0.045963,    0.045705,    0.045447,    0.045189,     0.04493,    0.044672,    0.044414,\n",
              "           0.044156,    0.043898,    0.043639,    0.043381,    0.043123,    0.042865,    0.042606,    0.042348,     0.04209,    0.041832,    0.041574,    0.041315,    0.041057,    0.040799,    0.040541,    0.040282,    0.040024,    0.039766,    0.039508,     0.03925,    0.038991,    0.038733,    0.038475,\n",
              "           0.038217,    0.037958,      0.0377,    0.037442,    0.037184,    0.036926,    0.036667,    0.036409,    0.036151,    0.035893,    0.035634,    0.035376,    0.035118,     0.03486,    0.034602,    0.034343,    0.034085,    0.033827,    0.033569,     0.03331,    0.033052,    0.032794,    0.032536,\n",
              "           0.032278,    0.032019,    0.031761,    0.031503,    0.031245,    0.030986,    0.030728,     0.03047,    0.030212,    0.029954,    0.029695,    0.029437,    0.029179,    0.028921,    0.028662,    0.028404,    0.028146,    0.027888,     0.02763,    0.027371,    0.027113,    0.026855,    0.026597,\n",
              "           0.026339,     0.02608,    0.025822,    0.025564,    0.025306,    0.025047,    0.024789,    0.024531,    0.024273,    0.024015,    0.023756,    0.023498,     0.02324,    0.022982,    0.022723,    0.022465,    0.022207,    0.021949,    0.021691,    0.021432,    0.021174,    0.020916,    0.020658,\n",
              "           0.020399,    0.020141,    0.019883,    0.019625,    0.019367,    0.019108,     0.01885,    0.018592,    0.018334,    0.018075,    0.017817,    0.017559,    0.017301,    0.017043,    0.016784,    0.016526,    0.016268,     0.01601,    0.015751,    0.015493,    0.015235,    0.014977,    0.014719,\n",
              "            0.01446,    0.014202,    0.013944,    0.013686,    0.013427,    0.013169,    0.012911,    0.012653,    0.012395,    0.012136,    0.011878,     0.01162,    0.011362,    0.011103,    0.010845,    0.010587,    0.010329,    0.010071,   0.0098124,   0.0095542,   0.0092959,   0.0090377,   0.0087795,\n",
              "          0.0085213,   0.0082631,   0.0080048,   0.0077466,   0.0074884,   0.0072302,    0.006972,   0.0067137,   0.0064555,   0.0061973,   0.0059391,   0.0056809,   0.0054226,   0.0051644,   0.0049062,    0.004648,   0.0043898,   0.0041315,   0.0038733,   0.0036151,   0.0033569,   0.0030986,   0.0028404,\n",
              "          0.0025822,    0.002324,   0.0020658,   0.0018075,   0.0015493,   0.0012911,   0.0010329,  0.00077466,  0.00051644,  0.00025822,           0]]), 'Recall', 'Precision'], [array([          0,    0.001001,    0.002002,    0.003003,    0.004004,    0.005005,    0.006006,    0.007007,    0.008008,    0.009009,     0.01001,    0.011011,    0.012012,    0.013013,    0.014014,    0.015015,    0.016016,    0.017017,    0.018018,    0.019019,     0.02002,    0.021021,    0.022022,    0.023023,\n",
              "          0.024024,    0.025025,    0.026026,    0.027027,    0.028028,    0.029029,     0.03003,    0.031031,    0.032032,    0.033033,    0.034034,    0.035035,    0.036036,    0.037037,    0.038038,    0.039039,     0.04004,    0.041041,    0.042042,    0.043043,    0.044044,    0.045045,    0.046046,    0.047047,\n",
              "          0.048048,    0.049049,     0.05005,    0.051051,    0.052052,    0.053053,    0.054054,    0.055055,    0.056056,    0.057057,    0.058058,    0.059059,     0.06006,    0.061061,    0.062062,    0.063063,    0.064064,    0.065065,    0.066066,    0.067067,    0.068068,    0.069069,     0.07007,    0.071071,\n",
              "          0.072072,    0.073073,    0.074074,    0.075075,    0.076076,    0.077077,    0.078078,    0.079079,     0.08008,    0.081081,    0.082082,    0.083083,    0.084084,    0.085085,    0.086086,    0.087087,    0.088088,    0.089089,     0.09009,    0.091091,    0.092092,    0.093093,    0.094094,    0.095095,\n",
              "          0.096096,    0.097097,    0.098098,    0.099099,      0.1001,      0.1011,      0.1021,      0.1031,      0.1041,     0.10511,     0.10611,     0.10711,     0.10811,     0.10911,     0.11011,     0.11111,     0.11211,     0.11311,     0.11411,     0.11512,     0.11612,     0.11712,     0.11812,     0.11912,\n",
              "           0.12012,     0.12112,     0.12212,     0.12312,     0.12412,     0.12513,     0.12613,     0.12713,     0.12813,     0.12913,     0.13013,     0.13113,     0.13213,     0.13313,     0.13413,     0.13514,     0.13614,     0.13714,     0.13814,     0.13914,     0.14014,     0.14114,     0.14214,     0.14314,\n",
              "           0.14414,     0.14515,     0.14615,     0.14715,     0.14815,     0.14915,     0.15015,     0.15115,     0.15215,     0.15315,     0.15415,     0.15516,     0.15616,     0.15716,     0.15816,     0.15916,     0.16016,     0.16116,     0.16216,     0.16316,     0.16416,     0.16517,     0.16617,     0.16717,\n",
              "           0.16817,     0.16917,     0.17017,     0.17117,     0.17217,     0.17317,     0.17417,     0.17518,     0.17618,     0.17718,     0.17818,     0.17918,     0.18018,     0.18118,     0.18218,     0.18318,     0.18418,     0.18519,     0.18619,     0.18719,     0.18819,     0.18919,     0.19019,     0.19119,\n",
              "           0.19219,     0.19319,     0.19419,      0.1952,      0.1962,      0.1972,      0.1982,      0.1992,      0.2002,      0.2012,      0.2022,      0.2032,      0.2042,     0.20521,     0.20621,     0.20721,     0.20821,     0.20921,     0.21021,     0.21121,     0.21221,     0.21321,     0.21421,     0.21522,\n",
              "           0.21622,     0.21722,     0.21822,     0.21922,     0.22022,     0.22122,     0.22222,     0.22322,     0.22422,     0.22523,     0.22623,     0.22723,     0.22823,     0.22923,     0.23023,     0.23123,     0.23223,     0.23323,     0.23423,     0.23524,     0.23624,     0.23724,     0.23824,     0.23924,\n",
              "           0.24024,     0.24124,     0.24224,     0.24324,     0.24424,     0.24525,     0.24625,     0.24725,     0.24825,     0.24925,     0.25025,     0.25125,     0.25225,     0.25325,     0.25425,     0.25526,     0.25626,     0.25726,     0.25826,     0.25926,     0.26026,     0.26126,     0.26226,     0.26326,\n",
              "           0.26426,     0.26527,     0.26627,     0.26727,     0.26827,     0.26927,     0.27027,     0.27127,     0.27227,     0.27327,     0.27427,     0.27528,     0.27628,     0.27728,     0.27828,     0.27928,     0.28028,     0.28128,     0.28228,     0.28328,     0.28428,     0.28529,     0.28629,     0.28729,\n",
              "           0.28829,     0.28929,     0.29029,     0.29129,     0.29229,     0.29329,     0.29429,      0.2953,      0.2963,      0.2973,      0.2983,      0.2993,      0.3003,      0.3013,      0.3023,      0.3033,      0.3043,     0.30531,     0.30631,     0.30731,     0.30831,     0.30931,     0.31031,     0.31131,\n",
              "           0.31231,     0.31331,     0.31431,     0.31532,     0.31632,     0.31732,     0.31832,     0.31932,     0.32032,     0.32132,     0.32232,     0.32332,     0.32432,     0.32533,     0.32633,     0.32733,     0.32833,     0.32933,     0.33033,     0.33133,     0.33233,     0.33333,     0.33433,     0.33534,\n",
              "           0.33634,     0.33734,     0.33834,     0.33934,     0.34034,     0.34134,     0.34234,     0.34334,     0.34434,     0.34535,     0.34635,     0.34735,     0.34835,     0.34935,     0.35035,     0.35135,     0.35235,     0.35335,     0.35435,     0.35536,     0.35636,     0.35736,     0.35836,     0.35936,\n",
              "           0.36036,     0.36136,     0.36236,     0.36336,     0.36436,     0.36537,     0.36637,     0.36737,     0.36837,     0.36937,     0.37037,     0.37137,     0.37237,     0.37337,     0.37437,     0.37538,     0.37638,     0.37738,     0.37838,     0.37938,     0.38038,     0.38138,     0.38238,     0.38338,\n",
              "           0.38438,     0.38539,     0.38639,     0.38739,     0.38839,     0.38939,     0.39039,     0.39139,     0.39239,     0.39339,     0.39439,      0.3954,      0.3964,      0.3974,      0.3984,      0.3994,      0.4004,      0.4014,      0.4024,      0.4034,      0.4044,     0.40541,     0.40641,     0.40741,\n",
              "           0.40841,     0.40941,     0.41041,     0.41141,     0.41241,     0.41341,     0.41441,     0.41542,     0.41642,     0.41742,     0.41842,     0.41942,     0.42042,     0.42142,     0.42242,     0.42342,     0.42442,     0.42543,     0.42643,     0.42743,     0.42843,     0.42943,     0.43043,     0.43143,\n",
              "           0.43243,     0.43343,     0.43443,     0.43544,     0.43644,     0.43744,     0.43844,     0.43944,     0.44044,     0.44144,     0.44244,     0.44344,     0.44444,     0.44545,     0.44645,     0.44745,     0.44845,     0.44945,     0.45045,     0.45145,     0.45245,     0.45345,     0.45445,     0.45546,\n",
              "           0.45646,     0.45746,     0.45846,     0.45946,     0.46046,     0.46146,     0.46246,     0.46346,     0.46446,     0.46547,     0.46647,     0.46747,     0.46847,     0.46947,     0.47047,     0.47147,     0.47247,     0.47347,     0.47447,     0.47548,     0.47648,     0.47748,     0.47848,     0.47948,\n",
              "           0.48048,     0.48148,     0.48248,     0.48348,     0.48448,     0.48549,     0.48649,     0.48749,     0.48849,     0.48949,     0.49049,     0.49149,     0.49249,     0.49349,     0.49449,      0.4955,      0.4965,      0.4975,      0.4985,      0.4995,      0.5005,      0.5015,      0.5025,      0.5035,\n",
              "            0.5045,     0.50551,     0.50651,     0.50751,     0.50851,     0.50951,     0.51051,     0.51151,     0.51251,     0.51351,     0.51451,     0.51552,     0.51652,     0.51752,     0.51852,     0.51952,     0.52052,     0.52152,     0.52252,     0.52352,     0.52452,     0.52553,     0.52653,     0.52753,\n",
              "           0.52853,     0.52953,     0.53053,     0.53153,     0.53253,     0.53353,     0.53453,     0.53554,     0.53654,     0.53754,     0.53854,     0.53954,     0.54054,     0.54154,     0.54254,     0.54354,     0.54454,     0.54555,     0.54655,     0.54755,     0.54855,     0.54955,     0.55055,     0.55155,\n",
              "           0.55255,     0.55355,     0.55455,     0.55556,     0.55656,     0.55756,     0.55856,     0.55956,     0.56056,     0.56156,     0.56256,     0.56356,     0.56456,     0.56557,     0.56657,     0.56757,     0.56857,     0.56957,     0.57057,     0.57157,     0.57257,     0.57357,     0.57457,     0.57558,\n",
              "           0.57658,     0.57758,     0.57858,     0.57958,     0.58058,     0.58158,     0.58258,     0.58358,     0.58458,     0.58559,     0.58659,     0.58759,     0.58859,     0.58959,     0.59059,     0.59159,     0.59259,     0.59359,     0.59459,      0.5956,      0.5966,      0.5976,      0.5986,      0.5996,\n",
              "            0.6006,      0.6016,      0.6026,      0.6036,      0.6046,     0.60561,     0.60661,     0.60761,     0.60861,     0.60961,     0.61061,     0.61161,     0.61261,     0.61361,     0.61461,     0.61562,     0.61662,     0.61762,     0.61862,     0.61962,     0.62062,     0.62162,     0.62262,     0.62362,\n",
              "           0.62462,     0.62563,     0.62663,     0.62763,     0.62863,     0.62963,     0.63063,     0.63163,     0.63263,     0.63363,     0.63463,     0.63564,     0.63664,     0.63764,     0.63864,     0.63964,     0.64064,     0.64164,     0.64264,     0.64364,     0.64464,     0.64565,     0.64665,     0.64765,\n",
              "           0.64865,     0.64965,     0.65065,     0.65165,     0.65265,     0.65365,     0.65465,     0.65566,     0.65666,     0.65766,     0.65866,     0.65966,     0.66066,     0.66166,     0.66266,     0.66366,     0.66466,     0.66567,     0.66667,     0.66767,     0.66867,     0.66967,     0.67067,     0.67167,\n",
              "           0.67267,     0.67367,     0.67467,     0.67568,     0.67668,     0.67768,     0.67868,     0.67968,     0.68068,     0.68168,     0.68268,     0.68368,     0.68468,     0.68569,     0.68669,     0.68769,     0.68869,     0.68969,     0.69069,     0.69169,     0.69269,     0.69369,     0.69469,      0.6957,\n",
              "            0.6967,      0.6977,      0.6987,      0.6997,      0.7007,      0.7017,      0.7027,      0.7037,      0.7047,     0.70571,     0.70671,     0.70771,     0.70871,     0.70971,     0.71071,     0.71171,     0.71271,     0.71371,     0.71471,     0.71572,     0.71672,     0.71772,     0.71872,     0.71972,\n",
              "           0.72072,     0.72172,     0.72272,     0.72372,     0.72472,     0.72573,     0.72673,     0.72773,     0.72873,     0.72973,     0.73073,     0.73173,     0.73273,     0.73373,     0.73473,     0.73574,     0.73674,     0.73774,     0.73874,     0.73974,     0.74074,     0.74174,     0.74274,     0.74374,\n",
              "           0.74474,     0.74575,     0.74675,     0.74775,     0.74875,     0.74975,     0.75075,     0.75175,     0.75275,     0.75375,     0.75475,     0.75576,     0.75676,     0.75776,     0.75876,     0.75976,     0.76076,     0.76176,     0.76276,     0.76376,     0.76476,     0.76577,     0.76677,     0.76777,\n",
              "           0.76877,     0.76977,     0.77077,     0.77177,     0.77277,     0.77377,     0.77477,     0.77578,     0.77678,     0.77778,     0.77878,     0.77978,     0.78078,     0.78178,     0.78278,     0.78378,     0.78478,     0.78579,     0.78679,     0.78779,     0.78879,     0.78979,     0.79079,     0.79179,\n",
              "           0.79279,     0.79379,     0.79479,      0.7958,      0.7968,      0.7978,      0.7988,      0.7998,      0.8008,      0.8018,      0.8028,      0.8038,      0.8048,     0.80581,     0.80681,     0.80781,     0.80881,     0.80981,     0.81081,     0.81181,     0.81281,     0.81381,     0.81481,     0.81582,\n",
              "           0.81682,     0.81782,     0.81882,     0.81982,     0.82082,     0.82182,     0.82282,     0.82382,     0.82482,     0.82583,     0.82683,     0.82783,     0.82883,     0.82983,     0.83083,     0.83183,     0.83283,     0.83383,     0.83483,     0.83584,     0.83684,     0.83784,     0.83884,     0.83984,\n",
              "           0.84084,     0.84184,     0.84284,     0.84384,     0.84484,     0.84585,     0.84685,     0.84785,     0.84885,     0.84985,     0.85085,     0.85185,     0.85285,     0.85385,     0.85485,     0.85586,     0.85686,     0.85786,     0.85886,     0.85986,     0.86086,     0.86186,     0.86286,     0.86386,\n",
              "           0.86486,     0.86587,     0.86687,     0.86787,     0.86887,     0.86987,     0.87087,     0.87187,     0.87287,     0.87387,     0.87487,     0.87588,     0.87688,     0.87788,     0.87888,     0.87988,     0.88088,     0.88188,     0.88288,     0.88388,     0.88488,     0.88589,     0.88689,     0.88789,\n",
              "           0.88889,     0.88989,     0.89089,     0.89189,     0.89289,     0.89389,     0.89489,      0.8959,      0.8969,      0.8979,      0.8989,      0.8999,      0.9009,      0.9019,      0.9029,      0.9039,      0.9049,     0.90591,     0.90691,     0.90791,     0.90891,     0.90991,     0.91091,     0.91191,\n",
              "           0.91291,     0.91391,     0.91491,     0.91592,     0.91692,     0.91792,     0.91892,     0.91992,     0.92092,     0.92192,     0.92292,     0.92392,     0.92492,     0.92593,     0.92693,     0.92793,     0.92893,     0.92993,     0.93093,     0.93193,     0.93293,     0.93393,     0.93493,     0.93594,\n",
              "           0.93694,     0.93794,     0.93894,     0.93994,     0.94094,     0.94194,     0.94294,     0.94394,     0.94494,     0.94595,     0.94695,     0.94795,     0.94895,     0.94995,     0.95095,     0.95195,     0.95295,     0.95395,     0.95495,     0.95596,     0.95696,     0.95796,     0.95896,     0.95996,\n",
              "           0.96096,     0.96196,     0.96296,     0.96396,     0.96496,     0.96597,     0.96697,     0.96797,     0.96897,     0.96997,     0.97097,     0.97197,     0.97297,     0.97397,     0.97497,     0.97598,     0.97698,     0.97798,     0.97898,     0.97998,     0.98098,     0.98198,     0.98298,     0.98398,\n",
              "           0.98498,     0.98599,     0.98699,     0.98799,     0.98899,     0.98999,     0.99099,     0.99199,     0.99299,     0.99399,     0.99499,       0.996,       0.997,       0.998,       0.999,           1]), array([[    0.15196,     0.15196,     0.19118,      0.2191,     0.24124,     0.26031,     0.27668,     0.29045,     0.30369,     0.31538,     0.32646,     0.33636,     0.34563,     0.35403,     0.36261,     0.37018,     0.37696,     0.38418,     0.39062,     0.39726,     0.40357,      0.4093,     0.41456,\n",
              "            0.42024,     0.42558,     0.43043,     0.43565,     0.44049,     0.44476,     0.44886,     0.45304,     0.45733,     0.46086,      0.4646,     0.46829,     0.47178,     0.47509,     0.47839,     0.48179,     0.48481,      0.4881,     0.49134,     0.49401,     0.49718,     0.49987,     0.50254,\n",
              "            0.50508,     0.50736,     0.51025,     0.51251,     0.51493,     0.51727,     0.51981,     0.52204,     0.52447,     0.52687,     0.52923,     0.53097,     0.53309,     0.53531,     0.53699,     0.53884,     0.54066,     0.54297,     0.54473,     0.54647,     0.54817,     0.54983,     0.55187,\n",
              "            0.55329,     0.55511,     0.55681,     0.55796,     0.55953,     0.56116,      0.5628,     0.56382,     0.56521,     0.56675,      0.5678,     0.56922,     0.57013,      0.5711,     0.57255,     0.57361,     0.57497,     0.57624,     0.57748,     0.57875,     0.57981,     0.58108,     0.58214,\n",
              "            0.58327,     0.58423,     0.58525,     0.58623,     0.58728,     0.58849,     0.58931,     0.59003,     0.59125,     0.59205,     0.59321,     0.59384,     0.59442,     0.59546,     0.59632,     0.59721,     0.59777,     0.59864,     0.59951,     0.60021,     0.60106,     0.60169,     0.60256,\n",
              "            0.60302,     0.60377,     0.60432,     0.60514,     0.60581,     0.60668,     0.60735,      0.6079,     0.60907,     0.60961,     0.61016,     0.61068,     0.61132,     0.61189,     0.61243,     0.61309,     0.61366,     0.61414,     0.61432,     0.61493,     0.61541,     0.61592,     0.61625,\n",
              "            0.61675,     0.61717,     0.61766,     0.61816,     0.61872,     0.61915,     0.61962,     0.62018,      0.6206,       0.621,     0.62144,     0.62179,     0.62202,      0.6225,     0.62275,     0.62302,     0.62327,     0.62365,     0.62378,     0.62403,     0.62427,     0.62494,     0.62514,\n",
              "            0.62524,      0.6256,     0.62609,     0.62636,     0.62653,      0.6269,     0.62711,     0.62751,     0.62781,     0.62804,     0.62842,     0.62881,     0.62893,     0.62914,     0.62934,     0.62944,     0.62955,     0.62952,     0.62962,     0.62993,     0.63017,     0.63052,     0.63076,\n",
              "             0.6308,      0.6311,     0.63129,     0.63149,      0.6316,     0.63195,     0.63231,     0.63249,     0.63284,     0.63309,     0.63305,     0.63323,      0.6334,     0.63362,     0.63378,      0.6337,      0.6341,     0.63401,       0.634,     0.63402,     0.63396,     0.63408,     0.63419,\n",
              "            0.63418,     0.63433,     0.63439,     0.63448,     0.63446,      0.6345,     0.63458,     0.63472,     0.63477,     0.63476,     0.63481,     0.63492,     0.63479,      0.6348,     0.63477,     0.63452,     0.63446,     0.63444,      0.6344,     0.63446,     0.63451,     0.63447,     0.63442,\n",
              "            0.63439,     0.63445,     0.63452,     0.63447,     0.63456,     0.63453,     0.63454,     0.63461,     0.63447,     0.63439,     0.63456,     0.63451,     0.63452,     0.63462,     0.63446,     0.63451,     0.63452,      0.6346,     0.63445,     0.63437,     0.63427,     0.63407,     0.63396,\n",
              "            0.63389,     0.63383,     0.63372,      0.6337,     0.63374,     0.63363,     0.63332,     0.63327,     0.63325,     0.63308,     0.63304,     0.63299,     0.63263,     0.63248,      0.6325,     0.63246,     0.63246,      0.6323,     0.63228,      0.6322,     0.63232,     0.63243,     0.63243,\n",
              "            0.63226,     0.63188,     0.63189,     0.63158,     0.63139,     0.63121,     0.63112,     0.63107,     0.63099,     0.63095,     0.63081,     0.63078,     0.63069,     0.63058,     0.63028,     0.63016,     0.63008,     0.62989,     0.62967,     0.62957,     0.62952,      0.6294,      0.6294,\n",
              "             0.6291,     0.62895,     0.62879,     0.62867,     0.62823,      0.6282,     0.62803,     0.62768,     0.62754,     0.62738,     0.62729,     0.62703,     0.62696,     0.62672,     0.62671,     0.62656,     0.62634,     0.62624,     0.62612,     0.62598,     0.62586,     0.62585,     0.62558,\n",
              "            0.62545,     0.62523,     0.62484,     0.62453,     0.62438,     0.62419,     0.62399,     0.62362,      0.6232,     0.62299,     0.62288,     0.62262,     0.62233,     0.62213,     0.62208,     0.62149,     0.62134,     0.62118,     0.62089,     0.62077,     0.62068,     0.62033,     0.62028,\n",
              "            0.62005,     0.61992,     0.61985,     0.61967,     0.61952,     0.61928,     0.61892,     0.61872,     0.61848,      0.6182,     0.61782,     0.61748,     0.61727,     0.61708,     0.61675,     0.61628,      0.6161,     0.61588,     0.61568,     0.61541,     0.61497,      0.6147,     0.61443,\n",
              "            0.61427,     0.61406,     0.61329,     0.61308,     0.61284,     0.61244,     0.61224,     0.61174,     0.61142,     0.61121,     0.61099,      0.6107,     0.60996,     0.60976,     0.60945,     0.60909,     0.60872,     0.60841,     0.60819,     0.60791,     0.60772,     0.60742,      0.6069,\n",
              "            0.60638,     0.60612,      0.6059,     0.60559,     0.60542,     0.60502,     0.60476,     0.60448,     0.60407,     0.60388,     0.60362,     0.60318,     0.60309,     0.60286,     0.60261,     0.60222,     0.60144,     0.60122,     0.60075,     0.60039,     0.59991,     0.59964,     0.59941,\n",
              "            0.59893,     0.59854,     0.59829,     0.59791,     0.59762,     0.59722,     0.59691,      0.5965,     0.59623,     0.59529,     0.59474,     0.59434,     0.59388,     0.59348,     0.59297,     0.59281,     0.59238,     0.59213,     0.59176,     0.59138,     0.59097,     0.59064,     0.59039,\n",
              "            0.59005,      0.5896,     0.58907,     0.58864,     0.58843,     0.58805,     0.58768,     0.58733,     0.58698,     0.58668,     0.58621,     0.58591,     0.58546,     0.58471,     0.58446,     0.58408,     0.58369,     0.58331,     0.58291,      0.5826,     0.58207,     0.58178,     0.58152,\n",
              "            0.58105,     0.58062,     0.58025,     0.57985,      0.5795,     0.57909,     0.57857,     0.57809,      0.5777,      0.5772,     0.57687,     0.57645,     0.57605,     0.57569,     0.57524,      0.5748,      0.5741,     0.57371,     0.57292,     0.57273,     0.57204,     0.57159,     0.57122,\n",
              "            0.57089,     0.57047,     0.56999,     0.56957,     0.56913,      0.5688,     0.56848,     0.56791,     0.56743,     0.56699,     0.56648,     0.56591,     0.56559,     0.56515,     0.56479,     0.56443,     0.56389,     0.56347,     0.56319,      0.5628,      0.5623,       0.562,     0.56158,\n",
              "            0.56115,     0.56066,     0.55997,     0.55948,     0.55886,     0.55836,     0.55793,     0.55732,     0.55685,     0.55636,     0.55587,     0.55528,     0.55468,     0.55424,     0.55311,     0.55263,     0.55228,     0.55149,     0.55098,     0.55051,     0.54991,     0.54954,      0.5492,\n",
              "            0.54883,     0.54811,     0.54774,     0.54723,     0.54672,     0.54646,     0.54606,     0.54569,     0.54534,     0.54481,     0.54457,     0.54389,     0.54328,     0.54252,     0.54215,     0.54181,     0.54137,     0.54081,     0.54043,      0.5399,     0.53951,     0.53875,     0.53819,\n",
              "            0.53747,     0.53687,     0.53621,     0.53565,     0.53516,     0.53404,     0.53362,     0.53329,     0.53262,     0.53189,     0.53132,     0.53081,     0.53047,      0.5298,     0.52932,     0.52871,     0.52807,     0.52747,     0.52686,      0.5264,     0.52577,     0.52515,     0.52461,\n",
              "            0.52395,     0.52352,     0.52306,     0.52243,     0.52192,     0.52059,     0.51998,     0.51933,     0.51886,     0.51826,     0.51761,     0.51697,     0.51631,      0.5158,     0.51524,     0.51456,     0.51408,     0.51334,     0.51254,     0.51203,     0.51136,     0.51018,     0.50932,\n",
              "             0.5089,     0.50821,     0.50766,     0.50708,     0.50644,     0.50596,     0.50549,     0.50474,       0.504,     0.50284,     0.50194,     0.50141,     0.50085,     0.50006,     0.49938,     0.49891,     0.49828,     0.49773,     0.49667,      0.4958,     0.49515,     0.49449,      0.4929,\n",
              "            0.49223,     0.49159,     0.49099,     0.49008,     0.48932,     0.48879,     0.48823,     0.48744,     0.48693,     0.48608,     0.48528,     0.48434,     0.48367,     0.48313,     0.48255,     0.48195,     0.48104,     0.48016,     0.47947,     0.47839,     0.47761,     0.47709,     0.47643,\n",
              "            0.47545,     0.47469,     0.47368,     0.47277,     0.47189,     0.47063,     0.46987,     0.46903,     0.46839,     0.46766,     0.46699,     0.46623,     0.46564,     0.46488,     0.46339,     0.46271,     0.46186,     0.46104,     0.45972,     0.45903,     0.45827,     0.45739,     0.45668,\n",
              "            0.45594,     0.45533,     0.45455,     0.45332,     0.45269,     0.45206,     0.45151,     0.45081,     0.44994,     0.44924,     0.44756,     0.44668,     0.44564,     0.44435,     0.44334,     0.44272,      0.4416,     0.44085,     0.43983,     0.43899,      0.4375,     0.43658,     0.43575,\n",
              "            0.43488,     0.43428,     0.43354,     0.43183,     0.43112,     0.43035,     0.42943,     0.42785,     0.42609,     0.42606,     0.42432,     0.42278,     0.42271,     0.42092,     0.42089,     0.41934,     0.41766,     0.41764,      0.4154,     0.41534,     0.41331,     0.41125,     0.41123,\n",
              "            0.40949,     0.40947,     0.40764,     0.40578,     0.40575,     0.40382,     0.40185,     0.40182,     0.40027,     0.39824,     0.39822,     0.39619,     0.39424,     0.39417,      0.3919,     0.38963,     0.38959,     0.38773,     0.38765,     0.38542,     0.38319,     0.38317,     0.38101,\n",
              "            0.37853,     0.37848,       0.376,     0.37382,     0.37134,     0.37127,     0.36894,     0.36884,     0.36622,     0.36416,     0.36411,     0.36187,     0.35964,     0.35956,     0.35708,     0.35438,     0.35427,      0.3523,     0.35001,      0.3499,     0.34748,     0.34497,     0.34198,\n",
              "            0.34193,     0.33888,     0.33559,     0.33265,     0.33247,     0.32939,     0.32664,     0.32659,     0.32318,     0.32073,      0.3175,     0.31746,     0.31409,     0.31095,      0.3109,     0.30765,     0.30424,     0.30409,     0.30068,     0.29704,     0.29284,     0.28956,     0.28947,\n",
              "            0.28568,     0.28241,     0.27811,     0.27795,     0.27407,     0.27048,     0.26694,     0.26686,     0.26266,      0.2591,     0.25525,     0.25501,     0.25106,     0.24746,     0.24246,     0.23885,     0.23868,     0.23497,     0.23008,      0.2264,     0.22211,     0.21676,     0.21654,\n",
              "            0.21299,     0.20872,     0.20421,     0.19981,     0.19968,     0.19505,      0.1908,     0.18624,     0.18075,     0.17659,     0.17636,     0.17103,     0.16636,     0.16167,     0.15641,     0.15156,     0.14673,     0.14205,     0.13655,     0.13632,     0.13168,     0.12758,     0.12325,\n",
              "            0.11907,     0.11522,     0.11011,     0.10573,     0.10536,     0.10152,    0.097331,    0.092897,    0.089453,    0.086132,    0.083272,    0.079979,    0.076768,    0.072846,    0.069752,    0.066365,    0.063062,    0.059943,    0.057371,    0.054609,    0.051838,    0.049204,    0.046947,\n",
              "            0.04454,    0.041885,    0.039805,    0.037816,    0.035241,    0.033487,    0.030705,    0.028943,    0.027619,    0.024673,     0.02349,    0.022799,    0.021762,    0.020379,    0.019537,    0.018695,       0.018,    0.016859,    0.016262,    0.015318,    0.014521,    0.013426,    0.012628,\n",
              "           0.011879,     0.01108,     0.01053,    0.009879,   0.0092778,   0.0082768,   0.0072247,   0.0065719,    0.006169,   0.0058661,   0.0056132,    0.005543,   0.0051072,   0.0046035,   0.0044505,   0.0042849,   0.0038938,   0.0034898,   0.0032363,   0.0029325,   0.0026788,   0.0025758,   0.0022931,\n",
              "          0.0020683,   0.0018633,   0.0015855,   0.0014836,   0.0013818,   0.0012511,   0.0010036,  0.00096921,  0.00084104,  0.00078301,   0.0007453,   0.0006825,  0.00062949,  0.00059509,  0.00056069,  0.00053734,   0.0005167,  0.00049731,   0.0004801,   0.0004629,  0.00045056,  0.00044449,  0.00043842,\n",
              "         0.00043235,  0.00042628,  0.00042021,  0.00041414,  0.00040806,  0.00040163,  0.00039303,  0.00038442,  0.00037582,  0.00036722,  0.00035862,  0.00032248,  0.00029579,  0.00028785,  0.00027991,  0.00027197,  0.00026403,  0.00025609,  0.00025005,  0.00024622,   0.0002424,  0.00023858,  0.00023475,\n",
              "         0.00023093,  0.00022711,  0.00022328,  0.00021946,  0.00021564,  0.00021181,  0.00020799,  0.00020416,  0.00020042,  0.00019686,   0.0001933,  0.00018974,  0.00018618,  0.00018262,  0.00017906,   0.0001755,  0.00017194,  0.00016838,  0.00016482,  0.00016126,   0.0001577,  0.00015414,  0.00015052,\n",
              "         0.00014655,  0.00014258,   0.0001386,  0.00013463,  0.00013066,  0.00012669,  0.00012272,  0.00011875,  0.00011478,  0.00011081,  0.00010684,  0.00010287,  8.4802e-05,  5.0384e-05,           0,           0,           0,           0,           0,           0,           0,           0,           0,\n",
              "                  0,           0,           0,           0,           0,           0,           0,           0,           0,           0,           0]]), 'Confidence', 'F1'], [array([          0,    0.001001,    0.002002,    0.003003,    0.004004,    0.005005,    0.006006,    0.007007,    0.008008,    0.009009,     0.01001,    0.011011,    0.012012,    0.013013,    0.014014,    0.015015,    0.016016,    0.017017,    0.018018,    0.019019,     0.02002,    0.021021,    0.022022,    0.023023,\n",
              "          0.024024,    0.025025,    0.026026,    0.027027,    0.028028,    0.029029,     0.03003,    0.031031,    0.032032,    0.033033,    0.034034,    0.035035,    0.036036,    0.037037,    0.038038,    0.039039,     0.04004,    0.041041,    0.042042,    0.043043,    0.044044,    0.045045,    0.046046,    0.047047,\n",
              "          0.048048,    0.049049,     0.05005,    0.051051,    0.052052,    0.053053,    0.054054,    0.055055,    0.056056,    0.057057,    0.058058,    0.059059,     0.06006,    0.061061,    0.062062,    0.063063,    0.064064,    0.065065,    0.066066,    0.067067,    0.068068,    0.069069,     0.07007,    0.071071,\n",
              "          0.072072,    0.073073,    0.074074,    0.075075,    0.076076,    0.077077,    0.078078,    0.079079,     0.08008,    0.081081,    0.082082,    0.083083,    0.084084,    0.085085,    0.086086,    0.087087,    0.088088,    0.089089,     0.09009,    0.091091,    0.092092,    0.093093,    0.094094,    0.095095,\n",
              "          0.096096,    0.097097,    0.098098,    0.099099,      0.1001,      0.1011,      0.1021,      0.1031,      0.1041,     0.10511,     0.10611,     0.10711,     0.10811,     0.10911,     0.11011,     0.11111,     0.11211,     0.11311,     0.11411,     0.11512,     0.11612,     0.11712,     0.11812,     0.11912,\n",
              "           0.12012,     0.12112,     0.12212,     0.12312,     0.12412,     0.12513,     0.12613,     0.12713,     0.12813,     0.12913,     0.13013,     0.13113,     0.13213,     0.13313,     0.13413,     0.13514,     0.13614,     0.13714,     0.13814,     0.13914,     0.14014,     0.14114,     0.14214,     0.14314,\n",
              "           0.14414,     0.14515,     0.14615,     0.14715,     0.14815,     0.14915,     0.15015,     0.15115,     0.15215,     0.15315,     0.15415,     0.15516,     0.15616,     0.15716,     0.15816,     0.15916,     0.16016,     0.16116,     0.16216,     0.16316,     0.16416,     0.16517,     0.16617,     0.16717,\n",
              "           0.16817,     0.16917,     0.17017,     0.17117,     0.17217,     0.17317,     0.17417,     0.17518,     0.17618,     0.17718,     0.17818,     0.17918,     0.18018,     0.18118,     0.18218,     0.18318,     0.18418,     0.18519,     0.18619,     0.18719,     0.18819,     0.18919,     0.19019,     0.19119,\n",
              "           0.19219,     0.19319,     0.19419,      0.1952,      0.1962,      0.1972,      0.1982,      0.1992,      0.2002,      0.2012,      0.2022,      0.2032,      0.2042,     0.20521,     0.20621,     0.20721,     0.20821,     0.20921,     0.21021,     0.21121,     0.21221,     0.21321,     0.21421,     0.21522,\n",
              "           0.21622,     0.21722,     0.21822,     0.21922,     0.22022,     0.22122,     0.22222,     0.22322,     0.22422,     0.22523,     0.22623,     0.22723,     0.22823,     0.22923,     0.23023,     0.23123,     0.23223,     0.23323,     0.23423,     0.23524,     0.23624,     0.23724,     0.23824,     0.23924,\n",
              "           0.24024,     0.24124,     0.24224,     0.24324,     0.24424,     0.24525,     0.24625,     0.24725,     0.24825,     0.24925,     0.25025,     0.25125,     0.25225,     0.25325,     0.25425,     0.25526,     0.25626,     0.25726,     0.25826,     0.25926,     0.26026,     0.26126,     0.26226,     0.26326,\n",
              "           0.26426,     0.26527,     0.26627,     0.26727,     0.26827,     0.26927,     0.27027,     0.27127,     0.27227,     0.27327,     0.27427,     0.27528,     0.27628,     0.27728,     0.27828,     0.27928,     0.28028,     0.28128,     0.28228,     0.28328,     0.28428,     0.28529,     0.28629,     0.28729,\n",
              "           0.28829,     0.28929,     0.29029,     0.29129,     0.29229,     0.29329,     0.29429,      0.2953,      0.2963,      0.2973,      0.2983,      0.2993,      0.3003,      0.3013,      0.3023,      0.3033,      0.3043,     0.30531,     0.30631,     0.30731,     0.30831,     0.30931,     0.31031,     0.31131,\n",
              "           0.31231,     0.31331,     0.31431,     0.31532,     0.31632,     0.31732,     0.31832,     0.31932,     0.32032,     0.32132,     0.32232,     0.32332,     0.32432,     0.32533,     0.32633,     0.32733,     0.32833,     0.32933,     0.33033,     0.33133,     0.33233,     0.33333,     0.33433,     0.33534,\n",
              "           0.33634,     0.33734,     0.33834,     0.33934,     0.34034,     0.34134,     0.34234,     0.34334,     0.34434,     0.34535,     0.34635,     0.34735,     0.34835,     0.34935,     0.35035,     0.35135,     0.35235,     0.35335,     0.35435,     0.35536,     0.35636,     0.35736,     0.35836,     0.35936,\n",
              "           0.36036,     0.36136,     0.36236,     0.36336,     0.36436,     0.36537,     0.36637,     0.36737,     0.36837,     0.36937,     0.37037,     0.37137,     0.37237,     0.37337,     0.37437,     0.37538,     0.37638,     0.37738,     0.37838,     0.37938,     0.38038,     0.38138,     0.38238,     0.38338,\n",
              "           0.38438,     0.38539,     0.38639,     0.38739,     0.38839,     0.38939,     0.39039,     0.39139,     0.39239,     0.39339,     0.39439,      0.3954,      0.3964,      0.3974,      0.3984,      0.3994,      0.4004,      0.4014,      0.4024,      0.4034,      0.4044,     0.40541,     0.40641,     0.40741,\n",
              "           0.40841,     0.40941,     0.41041,     0.41141,     0.41241,     0.41341,     0.41441,     0.41542,     0.41642,     0.41742,     0.41842,     0.41942,     0.42042,     0.42142,     0.42242,     0.42342,     0.42442,     0.42543,     0.42643,     0.42743,     0.42843,     0.42943,     0.43043,     0.43143,\n",
              "           0.43243,     0.43343,     0.43443,     0.43544,     0.43644,     0.43744,     0.43844,     0.43944,     0.44044,     0.44144,     0.44244,     0.44344,     0.44444,     0.44545,     0.44645,     0.44745,     0.44845,     0.44945,     0.45045,     0.45145,     0.45245,     0.45345,     0.45445,     0.45546,\n",
              "           0.45646,     0.45746,     0.45846,     0.45946,     0.46046,     0.46146,     0.46246,     0.46346,     0.46446,     0.46547,     0.46647,     0.46747,     0.46847,     0.46947,     0.47047,     0.47147,     0.47247,     0.47347,     0.47447,     0.47548,     0.47648,     0.47748,     0.47848,     0.47948,\n",
              "           0.48048,     0.48148,     0.48248,     0.48348,     0.48448,     0.48549,     0.48649,     0.48749,     0.48849,     0.48949,     0.49049,     0.49149,     0.49249,     0.49349,     0.49449,      0.4955,      0.4965,      0.4975,      0.4985,      0.4995,      0.5005,      0.5015,      0.5025,      0.5035,\n",
              "            0.5045,     0.50551,     0.50651,     0.50751,     0.50851,     0.50951,     0.51051,     0.51151,     0.51251,     0.51351,     0.51451,     0.51552,     0.51652,     0.51752,     0.51852,     0.51952,     0.52052,     0.52152,     0.52252,     0.52352,     0.52452,     0.52553,     0.52653,     0.52753,\n",
              "           0.52853,     0.52953,     0.53053,     0.53153,     0.53253,     0.53353,     0.53453,     0.53554,     0.53654,     0.53754,     0.53854,     0.53954,     0.54054,     0.54154,     0.54254,     0.54354,     0.54454,     0.54555,     0.54655,     0.54755,     0.54855,     0.54955,     0.55055,     0.55155,\n",
              "           0.55255,     0.55355,     0.55455,     0.55556,     0.55656,     0.55756,     0.55856,     0.55956,     0.56056,     0.56156,     0.56256,     0.56356,     0.56456,     0.56557,     0.56657,     0.56757,     0.56857,     0.56957,     0.57057,     0.57157,     0.57257,     0.57357,     0.57457,     0.57558,\n",
              "           0.57658,     0.57758,     0.57858,     0.57958,     0.58058,     0.58158,     0.58258,     0.58358,     0.58458,     0.58559,     0.58659,     0.58759,     0.58859,     0.58959,     0.59059,     0.59159,     0.59259,     0.59359,     0.59459,      0.5956,      0.5966,      0.5976,      0.5986,      0.5996,\n",
              "            0.6006,      0.6016,      0.6026,      0.6036,      0.6046,     0.60561,     0.60661,     0.60761,     0.60861,     0.60961,     0.61061,     0.61161,     0.61261,     0.61361,     0.61461,     0.61562,     0.61662,     0.61762,     0.61862,     0.61962,     0.62062,     0.62162,     0.62262,     0.62362,\n",
              "           0.62462,     0.62563,     0.62663,     0.62763,     0.62863,     0.62963,     0.63063,     0.63163,     0.63263,     0.63363,     0.63463,     0.63564,     0.63664,     0.63764,     0.63864,     0.63964,     0.64064,     0.64164,     0.64264,     0.64364,     0.64464,     0.64565,     0.64665,     0.64765,\n",
              "           0.64865,     0.64965,     0.65065,     0.65165,     0.65265,     0.65365,     0.65465,     0.65566,     0.65666,     0.65766,     0.65866,     0.65966,     0.66066,     0.66166,     0.66266,     0.66366,     0.66466,     0.66567,     0.66667,     0.66767,     0.66867,     0.66967,     0.67067,     0.67167,\n",
              "           0.67267,     0.67367,     0.67467,     0.67568,     0.67668,     0.67768,     0.67868,     0.67968,     0.68068,     0.68168,     0.68268,     0.68368,     0.68468,     0.68569,     0.68669,     0.68769,     0.68869,     0.68969,     0.69069,     0.69169,     0.69269,     0.69369,     0.69469,      0.6957,\n",
              "            0.6967,      0.6977,      0.6987,      0.6997,      0.7007,      0.7017,      0.7027,      0.7037,      0.7047,     0.70571,     0.70671,     0.70771,     0.70871,     0.70971,     0.71071,     0.71171,     0.71271,     0.71371,     0.71471,     0.71572,     0.71672,     0.71772,     0.71872,     0.71972,\n",
              "           0.72072,     0.72172,     0.72272,     0.72372,     0.72472,     0.72573,     0.72673,     0.72773,     0.72873,     0.72973,     0.73073,     0.73173,     0.73273,     0.73373,     0.73473,     0.73574,     0.73674,     0.73774,     0.73874,     0.73974,     0.74074,     0.74174,     0.74274,     0.74374,\n",
              "           0.74474,     0.74575,     0.74675,     0.74775,     0.74875,     0.74975,     0.75075,     0.75175,     0.75275,     0.75375,     0.75475,     0.75576,     0.75676,     0.75776,     0.75876,     0.75976,     0.76076,     0.76176,     0.76276,     0.76376,     0.76476,     0.76577,     0.76677,     0.76777,\n",
              "           0.76877,     0.76977,     0.77077,     0.77177,     0.77277,     0.77377,     0.77477,     0.77578,     0.77678,     0.77778,     0.77878,     0.77978,     0.78078,     0.78178,     0.78278,     0.78378,     0.78478,     0.78579,     0.78679,     0.78779,     0.78879,     0.78979,     0.79079,     0.79179,\n",
              "           0.79279,     0.79379,     0.79479,      0.7958,      0.7968,      0.7978,      0.7988,      0.7998,      0.8008,      0.8018,      0.8028,      0.8038,      0.8048,     0.80581,     0.80681,     0.80781,     0.80881,     0.80981,     0.81081,     0.81181,     0.81281,     0.81381,     0.81481,     0.81582,\n",
              "           0.81682,     0.81782,     0.81882,     0.81982,     0.82082,     0.82182,     0.82282,     0.82382,     0.82482,     0.82583,     0.82683,     0.82783,     0.82883,     0.82983,     0.83083,     0.83183,     0.83283,     0.83383,     0.83483,     0.83584,     0.83684,     0.83784,     0.83884,     0.83984,\n",
              "           0.84084,     0.84184,     0.84284,     0.84384,     0.84484,     0.84585,     0.84685,     0.84785,     0.84885,     0.84985,     0.85085,     0.85185,     0.85285,     0.85385,     0.85485,     0.85586,     0.85686,     0.85786,     0.85886,     0.85986,     0.86086,     0.86186,     0.86286,     0.86386,\n",
              "           0.86486,     0.86587,     0.86687,     0.86787,     0.86887,     0.86987,     0.87087,     0.87187,     0.87287,     0.87387,     0.87487,     0.87588,     0.87688,     0.87788,     0.87888,     0.87988,     0.88088,     0.88188,     0.88288,     0.88388,     0.88488,     0.88589,     0.88689,     0.88789,\n",
              "           0.88889,     0.88989,     0.89089,     0.89189,     0.89289,     0.89389,     0.89489,      0.8959,      0.8969,      0.8979,      0.8989,      0.8999,      0.9009,      0.9019,      0.9029,      0.9039,      0.9049,     0.90591,     0.90691,     0.90791,     0.90891,     0.90991,     0.91091,     0.91191,\n",
              "           0.91291,     0.91391,     0.91491,     0.91592,     0.91692,     0.91792,     0.91892,     0.91992,     0.92092,     0.92192,     0.92292,     0.92392,     0.92492,     0.92593,     0.92693,     0.92793,     0.92893,     0.92993,     0.93093,     0.93193,     0.93293,     0.93393,     0.93493,     0.93594,\n",
              "           0.93694,     0.93794,     0.93894,     0.93994,     0.94094,     0.94194,     0.94294,     0.94394,     0.94494,     0.94595,     0.94695,     0.94795,     0.94895,     0.94995,     0.95095,     0.95195,     0.95295,     0.95395,     0.95495,     0.95596,     0.95696,     0.95796,     0.95896,     0.95996,\n",
              "           0.96096,     0.96196,     0.96296,     0.96396,     0.96496,     0.96597,     0.96697,     0.96797,     0.96897,     0.96997,     0.97097,     0.97197,     0.97297,     0.97397,     0.97497,     0.97598,     0.97698,     0.97798,     0.97898,     0.97998,     0.98098,     0.98198,     0.98298,     0.98398,\n",
              "           0.98498,     0.98599,     0.98699,     0.98799,     0.98899,     0.98999,     0.99099,     0.99199,     0.99299,     0.99399,     0.99499,       0.996,       0.997,       0.998,       0.999,           1]), array([[   0.085736,    0.085736,     0.11164,     0.13126,     0.14759,     0.16226,     0.17532,     0.18665,     0.19786,     0.20803,     0.21796,     0.22699,     0.23571,      0.2438,      0.2522,     0.25979,     0.26671,      0.2742,     0.28108,     0.28822,     0.29509,     0.30141,     0.30738,\n",
              "            0.31382,     0.32011,     0.32594,     0.33221,     0.33808,     0.34349,     0.34875,     0.35406,     0.35965,     0.36436,      0.3693,     0.37424,     0.37903,     0.38365,     0.38819,     0.39298,     0.39724,     0.40205,     0.40676,      0.4107,      0.4155,     0.41964,     0.42366,\n",
              "            0.42778,     0.43136,      0.4358,     0.43969,     0.44358,     0.44731,     0.45143,     0.45517,     0.45923,     0.46327,     0.46722,     0.47031,     0.47413,     0.47818,     0.48115,     0.48464,     0.48794,     0.49208,     0.49533,     0.49853,     0.50179,     0.50495,     0.50907,\n",
              "            0.51192,     0.51541,     0.51881,      0.5211,     0.52431,     0.52777,     0.53116,     0.53339,     0.53642,     0.53983,     0.54222,     0.54534,     0.54764,     0.54998,     0.55309,     0.55547,     0.55861,     0.56141,     0.56405,     0.56681,     0.56915,     0.57221,     0.57477,\n",
              "            0.57764,     0.58012,     0.58273,     0.58511,      0.5876,     0.59057,     0.59285,     0.59456,     0.59758,     0.60003,     0.60285,      0.6049,      0.6066,     0.60927,     0.61174,     0.61438,     0.61591,     0.61843,     0.62095,     0.62287,     0.62535,     0.62712,     0.62971,\n",
              "            0.63129,     0.63354,     0.63528,     0.63798,     0.64003,     0.64253,     0.64442,      0.6462,     0.64938,     0.65125,     0.65363,     0.65566,     0.65745,     0.65978,     0.66181,     0.66366,     0.66535,     0.66752,     0.66879,     0.67073,     0.67238,     0.67464,     0.67633,\n",
              "            0.67816,     0.67989,     0.68185,     0.68386,      0.6858,     0.68767,     0.68946,     0.69188,     0.69378,     0.69559,     0.69725,     0.69875,     0.70023,     0.70213,     0.70375,     0.70524,      0.7069,      0.7089,     0.71019,     0.71166,     0.71258,     0.71476,      0.7163,\n",
              "            0.71771,     0.71935,     0.72122,     0.72301,     0.72433,     0.72595,     0.72702,     0.72895,     0.73042,     0.73204,     0.73377,     0.73578,     0.73666,     0.73813,     0.73971,     0.74116,     0.74193,     0.74305,     0.74437,     0.74589,     0.74681,      0.7486,     0.75008,\n",
              "            0.75073,     0.75241,      0.7538,      0.7554,     0.75631,     0.75805,     0.75978,      0.7606,     0.76222,     0.76394,     0.76459,     0.76606,     0.76763,     0.76872,     0.77055,     0.77114,     0.77287,     0.77378,     0.77447,     0.77586,     0.77654,     0.77796,      0.7789,\n",
              "            0.78013,     0.78166,     0.78237,     0.78383,     0.78435,     0.78583,     0.78672,     0.78814,     0.78885,     0.79057,     0.79118,      0.7929,      0.7934,     0.79483,      0.7954,     0.79617,      0.7968,     0.79801,     0.79865,     0.80007,     0.80087,     0.80227,     0.80286,\n",
              "            0.80422,     0.80491,     0.80556,     0.80709,     0.80806,     0.80957,     0.81035,     0.81175,     0.81247,     0.81292,     0.81436,     0.81509,     0.81645,     0.81719,     0.81759,     0.81928,     0.82009,     0.82071,     0.82212,     0.82288,     0.82402,     0.82456,     0.82514,\n",
              "            0.82623,     0.82692,     0.82753,     0.82881,     0.82957,     0.83019,     0.83139,     0.83207,      0.8334,     0.83397,     0.83458,     0.83559,     0.83672,     0.83715,       0.838,     0.83914,     0.83984,     0.84023,     0.84135,     0.84211,     0.84296,     0.84384,     0.84544,\n",
              "            0.84594,     0.84624,     0.84685,     0.84774,      0.8481,     0.84866,     0.84973,     0.85051,     0.85151,     0.85201,     0.85339,     0.85417,      0.8548,     0.85536,     0.85646,     0.85713,     0.85771,     0.85844,     0.85967,     0.86016,     0.86073,     0.86122,     0.86199,\n",
              "            0.86308,     0.86361,     0.86418,     0.86485,     0.86605,     0.86665,     0.86737,     0.86783,     0.86833,     0.86948,     0.86993,     0.87044,     0.87102,     0.87225,     0.87284,     0.87342,     0.87395,     0.87478,     0.87515,     0.87567,     0.87709,     0.87785,     0.87843,\n",
              "            0.87912,     0.88001,     0.88105,     0.88167,     0.88242,     0.88316,     0.88351,     0.88392,     0.88486,     0.88521,     0.88591,     0.88643,     0.88698,     0.88748,      0.8884,      0.8891,     0.88977,     0.89039,     0.89102,     0.89161,      0.8922,     0.89308,     0.89383,\n",
              "            0.89439,     0.89493,     0.89545,     0.89586,     0.89652,     0.89778,     0.89815,     0.89868,     0.89924,     0.89984,     0.90034,     0.90099,     0.90134,     0.90159,     0.90206,     0.90284,     0.90365,     0.90411,     0.90441,      0.9048,     0.90526,     0.90571,     0.90621,\n",
              "            0.90686,     0.90767,      0.9082,     0.90852,      0.9092,     0.90978,     0.91027,     0.91049,     0.91104,     0.91152,     0.91191,     0.91243,     0.91312,     0.91362,     0.91426,     0.91486,     0.91523,     0.91566,     0.91606,     0.91629,     0.91674,     0.91714,     0.91848,\n",
              "            0.91898,     0.91957,     0.92025,     0.92079,      0.9214,     0.92174,     0.92248,     0.92284,     0.92321,      0.9238,     0.92435,     0.92484,     0.92561,     0.92614,     0.92657,     0.92702,      0.9278,     0.92809,     0.92839,     0.92862,     0.92902,     0.92935,     0.92994,\n",
              "            0.93043,     0.93057,     0.93105,     0.93136,     0.93196,     0.93229,     0.93258,     0.93276,     0.93325,     0.93375,     0.93391,     0.93414,     0.93452,       0.935,     0.93513,      0.9355,     0.93594,     0.93645,     0.93673,     0.93704,     0.93723,     0.93774,     0.93823,\n",
              "            0.93843,     0.93887,     0.93945,     0.93954,     0.93982,     0.94011,     0.94038,     0.94089,      0.9413,     0.94151,     0.94181,     0.94208,     0.94238,     0.94331,     0.94364,     0.94405,     0.94489,      0.9452,     0.94538,     0.94579,      0.9462,      0.9465,     0.94676,\n",
              "            0.94707,     0.94776,     0.94806,     0.94849,     0.94916,     0.94936,     0.94969,     0.95012,      0.9505,     0.95071,     0.95093,     0.95159,     0.95193,     0.95238,     0.95287,     0.95304,     0.95324,     0.95342,     0.95355,     0.95413,     0.95456,     0.95478,     0.95536,\n",
              "            0.95598,     0.95639,     0.95679,     0.95724,     0.95754,     0.95784,     0.95797,     0.95814,     0.95855,     0.95873,     0.95885,      0.9591,     0.95933,     0.95957,     0.95994,     0.96002,     0.96025,     0.96033,     0.96088,     0.96116,     0.96143,     0.96175,     0.96215,\n",
              "            0.96225,     0.96249,     0.96278,     0.96303,     0.96343,     0.96393,     0.96395,     0.96407,      0.9645,     0.96458,     0.96489,      0.9652,     0.96545,     0.96571,     0.96615,     0.96635,     0.96656,     0.96681,       0.967,     0.96727,     0.96801,     0.96816,     0.96825,\n",
              "            0.96853,     0.96855,     0.96869,     0.96878,     0.96886,     0.96915,     0.96912,      0.9693,     0.96949,     0.96976,     0.97005,     0.97056,     0.97064,     0.97096,     0.97131,     0.97166,     0.97169,     0.97178,     0.97207,     0.97227,     0.97238,     0.97246,     0.97242,\n",
              "            0.97255,      0.9729,     0.97311,     0.97326,     0.97336,     0.97406,     0.97458,     0.97491,     0.97494,     0.97522,     0.97541,     0.97567,     0.97571,     0.97607,     0.97623,     0.97646,     0.97668,     0.97703,     0.97727,     0.97745,     0.97788,     0.97791,     0.97788,\n",
              "            0.97797,     0.97841,     0.97879,     0.97876,     0.97894,     0.97913,     0.97924,     0.97945,     0.97952,     0.97969,     0.97993,     0.98003,     0.98021,     0.98032,     0.98063,     0.98067,     0.98077,     0.98095,     0.98112,     0.98124,     0.98141,     0.98157,     0.98174,\n",
              "            0.98207,     0.98221,     0.98236,     0.98255,     0.98259,     0.98271,     0.98276,     0.98273,     0.98284,     0.98307,     0.98303,     0.98338,     0.98363,     0.98381,       0.984,     0.98427,     0.98439,     0.98452,     0.98469,     0.98495,     0.98514,     0.98534,     0.98572,\n",
              "            0.98585,     0.98597,     0.98595,     0.98591,     0.98611,     0.98624,     0.98629,     0.98647,     0.98662,     0.98674,     0.98694,     0.98737,     0.98757,     0.98786,     0.98807,     0.98813,     0.98833,     0.98846,     0.98852,     0.98864,     0.98869,     0.98891,     0.98905,\n",
              "            0.98917,     0.98947,     0.98952,     0.98973,     0.98976,     0.98983,      0.9898,     0.98994,        0.99,     0.99014,     0.99021,     0.99027,     0.99025,     0.99039,     0.99068,     0.99066,     0.99072,     0.99086,     0.99083,     0.99081,     0.99096,      0.9911,     0.99117,\n",
              "            0.99131,     0.99147,     0.99153,     0.99152,     0.99191,     0.99189,     0.99202,      0.9922,     0.99252,     0.99277,     0.99299,     0.99297,     0.99295,     0.99318,     0.99343,     0.99359,     0.99374,     0.99373,     0.99388,     0.99405,     0.99429,     0.99427,     0.99435,\n",
              "            0.99442,      0.9945,     0.99458,     0.99455,     0.99463,     0.99478,     0.99488,     0.99485,     0.99492,     0.99492,     0.99517,     0.99533,     0.99533,      0.9954,      0.9954,     0.99547,     0.99564,     0.99563,     0.99561,      0.9956,     0.99567,     0.99603,     0.99603,\n",
              "             0.9963,      0.9963,     0.99638,     0.99636,     0.99636,     0.99673,     0.99671,     0.99671,     0.99689,     0.99687,     0.99687,     0.99685,     0.99704,     0.99704,     0.99712,      0.9971,      0.9971,     0.99718,     0.99718,     0.99727,     0.99735,     0.99735,     0.99733,\n",
              "            0.99763,     0.99763,     0.99772,     0.99771,     0.99769,     0.99769,     0.99767,     0.99767,     0.99776,     0.99774,     0.99774,     0.99784,     0.99794,     0.99794,     0.99803,     0.99802,     0.99802,     0.99812,     0.99822,     0.99822,     0.99845,     0.99843,     0.99842,\n",
              "            0.99842,     0.99852,      0.9985,     0.99861,     0.99861,     0.99872,     0.99871,     0.99871,      0.9987,     0.99868,      0.9988,      0.9988,     0.99879,     0.99877,     0.99877,     0.99889,     0.99902,     0.99902,       0.999,     0.99899,     0.99927,     0.99926,     0.99926,\n",
              "            0.99925,     0.99939,     0.99953,     0.99953,     0.99952,     0.99952,     0.99951,     0.99951,      0.9995,     0.99949,     0.99948,     0.99948,     0.99947,     0.99947,     0.99945,     0.99944,     0.99944,     0.99943,     0.99942,     0.99961,      0.9996,     0.99959,     0.99959,\n",
              "            0.99958,     0.99957,     0.99956,     0.99955,     0.99955,     0.99953,     0.99952,     0.99951,     0.99949,     0.99948,     0.99948,     0.99946,     0.99945,     0.99943,     0.99941,     0.99939,     0.99936,     0.99967,     0.99966,     0.99966,     0.99964,     0.99963,     0.99962,\n",
              "             0.9996,     0.99959,     0.99957,     0.99955,     0.99955,     0.99953,     0.99951,     0.99948,     0.99946,     0.99969,           1,           1,           1,           1,           1,           1,           1,           1,           1,           1,           1,           1,           1,\n",
              "                  1,           1,           1,           1,           1,           1,           1,           1,           1,           1,           1,           1,           1,           1,           1,           1,           1,           1,           1,           1,           1,           1,           1,\n",
              "                  1,           1,           1,           1,           1,           1,           1,           1,           1,           1,           1,           1,           1,           1,           1,           1,           1,           1,           1,           1,           1,           1,           1,\n",
              "                  1,           1,           1,           1,           1,           1,           1,           1,           1,           1,           1,           1,           1,           1,           1,           1,           1,           1,           1,           1,           1,           1,           1,\n",
              "                  1,           1,           1,           1,           1,           1,           1,           1,           1,           1,           1,           1,           1,           1,           1,           1,           1,           1,           1,           1,           1,           1,           1,\n",
              "                  1,           1,           1,           1,           1,           1,           1,           1,           1,           1,           1,           1,           1,           1,           1,           1,           1,           1,           1,           1,           1,           1,           1,\n",
              "                  1,           1,           1,           1,           1,           1,           1,           1,           1,           1,           1,           1,           1,           1,           1,           1,           1,           1,           1,           1,           1,           1,           1,\n",
              "                  1,           1,           1,           1,           1,           1,           1,           1,           1,           1,           1]]), 'Confidence', 'Precision'], [array([          0,    0.001001,    0.002002,    0.003003,    0.004004,    0.005005,    0.006006,    0.007007,    0.008008,    0.009009,     0.01001,    0.011011,    0.012012,    0.013013,    0.014014,    0.015015,    0.016016,    0.017017,    0.018018,    0.019019,     0.02002,    0.021021,    0.022022,    0.023023,\n",
              "          0.024024,    0.025025,    0.026026,    0.027027,    0.028028,    0.029029,     0.03003,    0.031031,    0.032032,    0.033033,    0.034034,    0.035035,    0.036036,    0.037037,    0.038038,    0.039039,     0.04004,    0.041041,    0.042042,    0.043043,    0.044044,    0.045045,    0.046046,    0.047047,\n",
              "          0.048048,    0.049049,     0.05005,    0.051051,    0.052052,    0.053053,    0.054054,    0.055055,    0.056056,    0.057057,    0.058058,    0.059059,     0.06006,    0.061061,    0.062062,    0.063063,    0.064064,    0.065065,    0.066066,    0.067067,    0.068068,    0.069069,     0.07007,    0.071071,\n",
              "          0.072072,    0.073073,    0.074074,    0.075075,    0.076076,    0.077077,    0.078078,    0.079079,     0.08008,    0.081081,    0.082082,    0.083083,    0.084084,    0.085085,    0.086086,    0.087087,    0.088088,    0.089089,     0.09009,    0.091091,    0.092092,    0.093093,    0.094094,    0.095095,\n",
              "          0.096096,    0.097097,    0.098098,    0.099099,      0.1001,      0.1011,      0.1021,      0.1031,      0.1041,     0.10511,     0.10611,     0.10711,     0.10811,     0.10911,     0.11011,     0.11111,     0.11211,     0.11311,     0.11411,     0.11512,     0.11612,     0.11712,     0.11812,     0.11912,\n",
              "           0.12012,     0.12112,     0.12212,     0.12312,     0.12412,     0.12513,     0.12613,     0.12713,     0.12813,     0.12913,     0.13013,     0.13113,     0.13213,     0.13313,     0.13413,     0.13514,     0.13614,     0.13714,     0.13814,     0.13914,     0.14014,     0.14114,     0.14214,     0.14314,\n",
              "           0.14414,     0.14515,     0.14615,     0.14715,     0.14815,     0.14915,     0.15015,     0.15115,     0.15215,     0.15315,     0.15415,     0.15516,     0.15616,     0.15716,     0.15816,     0.15916,     0.16016,     0.16116,     0.16216,     0.16316,     0.16416,     0.16517,     0.16617,     0.16717,\n",
              "           0.16817,     0.16917,     0.17017,     0.17117,     0.17217,     0.17317,     0.17417,     0.17518,     0.17618,     0.17718,     0.17818,     0.17918,     0.18018,     0.18118,     0.18218,     0.18318,     0.18418,     0.18519,     0.18619,     0.18719,     0.18819,     0.18919,     0.19019,     0.19119,\n",
              "           0.19219,     0.19319,     0.19419,      0.1952,      0.1962,      0.1972,      0.1982,      0.1992,      0.2002,      0.2012,      0.2022,      0.2032,      0.2042,     0.20521,     0.20621,     0.20721,     0.20821,     0.20921,     0.21021,     0.21121,     0.21221,     0.21321,     0.21421,     0.21522,\n",
              "           0.21622,     0.21722,     0.21822,     0.21922,     0.22022,     0.22122,     0.22222,     0.22322,     0.22422,     0.22523,     0.22623,     0.22723,     0.22823,     0.22923,     0.23023,     0.23123,     0.23223,     0.23323,     0.23423,     0.23524,     0.23624,     0.23724,     0.23824,     0.23924,\n",
              "           0.24024,     0.24124,     0.24224,     0.24324,     0.24424,     0.24525,     0.24625,     0.24725,     0.24825,     0.24925,     0.25025,     0.25125,     0.25225,     0.25325,     0.25425,     0.25526,     0.25626,     0.25726,     0.25826,     0.25926,     0.26026,     0.26126,     0.26226,     0.26326,\n",
              "           0.26426,     0.26527,     0.26627,     0.26727,     0.26827,     0.26927,     0.27027,     0.27127,     0.27227,     0.27327,     0.27427,     0.27528,     0.27628,     0.27728,     0.27828,     0.27928,     0.28028,     0.28128,     0.28228,     0.28328,     0.28428,     0.28529,     0.28629,     0.28729,\n",
              "           0.28829,     0.28929,     0.29029,     0.29129,     0.29229,     0.29329,     0.29429,      0.2953,      0.2963,      0.2973,      0.2983,      0.2993,      0.3003,      0.3013,      0.3023,      0.3033,      0.3043,     0.30531,     0.30631,     0.30731,     0.30831,     0.30931,     0.31031,     0.31131,\n",
              "           0.31231,     0.31331,     0.31431,     0.31532,     0.31632,     0.31732,     0.31832,     0.31932,     0.32032,     0.32132,     0.32232,     0.32332,     0.32432,     0.32533,     0.32633,     0.32733,     0.32833,     0.32933,     0.33033,     0.33133,     0.33233,     0.33333,     0.33433,     0.33534,\n",
              "           0.33634,     0.33734,     0.33834,     0.33934,     0.34034,     0.34134,     0.34234,     0.34334,     0.34434,     0.34535,     0.34635,     0.34735,     0.34835,     0.34935,     0.35035,     0.35135,     0.35235,     0.35335,     0.35435,     0.35536,     0.35636,     0.35736,     0.35836,     0.35936,\n",
              "           0.36036,     0.36136,     0.36236,     0.36336,     0.36436,     0.36537,     0.36637,     0.36737,     0.36837,     0.36937,     0.37037,     0.37137,     0.37237,     0.37337,     0.37437,     0.37538,     0.37638,     0.37738,     0.37838,     0.37938,     0.38038,     0.38138,     0.38238,     0.38338,\n",
              "           0.38438,     0.38539,     0.38639,     0.38739,     0.38839,     0.38939,     0.39039,     0.39139,     0.39239,     0.39339,     0.39439,      0.3954,      0.3964,      0.3974,      0.3984,      0.3994,      0.4004,      0.4014,      0.4024,      0.4034,      0.4044,     0.40541,     0.40641,     0.40741,\n",
              "           0.40841,     0.40941,     0.41041,     0.41141,     0.41241,     0.41341,     0.41441,     0.41542,     0.41642,     0.41742,     0.41842,     0.41942,     0.42042,     0.42142,     0.42242,     0.42342,     0.42442,     0.42543,     0.42643,     0.42743,     0.42843,     0.42943,     0.43043,     0.43143,\n",
              "           0.43243,     0.43343,     0.43443,     0.43544,     0.43644,     0.43744,     0.43844,     0.43944,     0.44044,     0.44144,     0.44244,     0.44344,     0.44444,     0.44545,     0.44645,     0.44745,     0.44845,     0.44945,     0.45045,     0.45145,     0.45245,     0.45345,     0.45445,     0.45546,\n",
              "           0.45646,     0.45746,     0.45846,     0.45946,     0.46046,     0.46146,     0.46246,     0.46346,     0.46446,     0.46547,     0.46647,     0.46747,     0.46847,     0.46947,     0.47047,     0.47147,     0.47247,     0.47347,     0.47447,     0.47548,     0.47648,     0.47748,     0.47848,     0.47948,\n",
              "           0.48048,     0.48148,     0.48248,     0.48348,     0.48448,     0.48549,     0.48649,     0.48749,     0.48849,     0.48949,     0.49049,     0.49149,     0.49249,     0.49349,     0.49449,      0.4955,      0.4965,      0.4975,      0.4985,      0.4995,      0.5005,      0.5015,      0.5025,      0.5035,\n",
              "            0.5045,     0.50551,     0.50651,     0.50751,     0.50851,     0.50951,     0.51051,     0.51151,     0.51251,     0.51351,     0.51451,     0.51552,     0.51652,     0.51752,     0.51852,     0.51952,     0.52052,     0.52152,     0.52252,     0.52352,     0.52452,     0.52553,     0.52653,     0.52753,\n",
              "           0.52853,     0.52953,     0.53053,     0.53153,     0.53253,     0.53353,     0.53453,     0.53554,     0.53654,     0.53754,     0.53854,     0.53954,     0.54054,     0.54154,     0.54254,     0.54354,     0.54454,     0.54555,     0.54655,     0.54755,     0.54855,     0.54955,     0.55055,     0.55155,\n",
              "           0.55255,     0.55355,     0.55455,     0.55556,     0.55656,     0.55756,     0.55856,     0.55956,     0.56056,     0.56156,     0.56256,     0.56356,     0.56456,     0.56557,     0.56657,     0.56757,     0.56857,     0.56957,     0.57057,     0.57157,     0.57257,     0.57357,     0.57457,     0.57558,\n",
              "           0.57658,     0.57758,     0.57858,     0.57958,     0.58058,     0.58158,     0.58258,     0.58358,     0.58458,     0.58559,     0.58659,     0.58759,     0.58859,     0.58959,     0.59059,     0.59159,     0.59259,     0.59359,     0.59459,      0.5956,      0.5966,      0.5976,      0.5986,      0.5996,\n",
              "            0.6006,      0.6016,      0.6026,      0.6036,      0.6046,     0.60561,     0.60661,     0.60761,     0.60861,     0.60961,     0.61061,     0.61161,     0.61261,     0.61361,     0.61461,     0.61562,     0.61662,     0.61762,     0.61862,     0.61962,     0.62062,     0.62162,     0.62262,     0.62362,\n",
              "           0.62462,     0.62563,     0.62663,     0.62763,     0.62863,     0.62963,     0.63063,     0.63163,     0.63263,     0.63363,     0.63463,     0.63564,     0.63664,     0.63764,     0.63864,     0.63964,     0.64064,     0.64164,     0.64264,     0.64364,     0.64464,     0.64565,     0.64665,     0.64765,\n",
              "           0.64865,     0.64965,     0.65065,     0.65165,     0.65265,     0.65365,     0.65465,     0.65566,     0.65666,     0.65766,     0.65866,     0.65966,     0.66066,     0.66166,     0.66266,     0.66366,     0.66466,     0.66567,     0.66667,     0.66767,     0.66867,     0.66967,     0.67067,     0.67167,\n",
              "           0.67267,     0.67367,     0.67467,     0.67568,     0.67668,     0.67768,     0.67868,     0.67968,     0.68068,     0.68168,     0.68268,     0.68368,     0.68468,     0.68569,     0.68669,     0.68769,     0.68869,     0.68969,     0.69069,     0.69169,     0.69269,     0.69369,     0.69469,      0.6957,\n",
              "            0.6967,      0.6977,      0.6987,      0.6997,      0.7007,      0.7017,      0.7027,      0.7037,      0.7047,     0.70571,     0.70671,     0.70771,     0.70871,     0.70971,     0.71071,     0.71171,     0.71271,     0.71371,     0.71471,     0.71572,     0.71672,     0.71772,     0.71872,     0.71972,\n",
              "           0.72072,     0.72172,     0.72272,     0.72372,     0.72472,     0.72573,     0.72673,     0.72773,     0.72873,     0.72973,     0.73073,     0.73173,     0.73273,     0.73373,     0.73473,     0.73574,     0.73674,     0.73774,     0.73874,     0.73974,     0.74074,     0.74174,     0.74274,     0.74374,\n",
              "           0.74474,     0.74575,     0.74675,     0.74775,     0.74875,     0.74975,     0.75075,     0.75175,     0.75275,     0.75375,     0.75475,     0.75576,     0.75676,     0.75776,     0.75876,     0.75976,     0.76076,     0.76176,     0.76276,     0.76376,     0.76476,     0.76577,     0.76677,     0.76777,\n",
              "           0.76877,     0.76977,     0.77077,     0.77177,     0.77277,     0.77377,     0.77477,     0.77578,     0.77678,     0.77778,     0.77878,     0.77978,     0.78078,     0.78178,     0.78278,     0.78378,     0.78478,     0.78579,     0.78679,     0.78779,     0.78879,     0.78979,     0.79079,     0.79179,\n",
              "           0.79279,     0.79379,     0.79479,      0.7958,      0.7968,      0.7978,      0.7988,      0.7998,      0.8008,      0.8018,      0.8028,      0.8038,      0.8048,     0.80581,     0.80681,     0.80781,     0.80881,     0.80981,     0.81081,     0.81181,     0.81281,     0.81381,     0.81481,     0.81582,\n",
              "           0.81682,     0.81782,     0.81882,     0.81982,     0.82082,     0.82182,     0.82282,     0.82382,     0.82482,     0.82583,     0.82683,     0.82783,     0.82883,     0.82983,     0.83083,     0.83183,     0.83283,     0.83383,     0.83483,     0.83584,     0.83684,     0.83784,     0.83884,     0.83984,\n",
              "           0.84084,     0.84184,     0.84284,     0.84384,     0.84484,     0.84585,     0.84685,     0.84785,     0.84885,     0.84985,     0.85085,     0.85185,     0.85285,     0.85385,     0.85485,     0.85586,     0.85686,     0.85786,     0.85886,     0.85986,     0.86086,     0.86186,     0.86286,     0.86386,\n",
              "           0.86486,     0.86587,     0.86687,     0.86787,     0.86887,     0.86987,     0.87087,     0.87187,     0.87287,     0.87387,     0.87487,     0.87588,     0.87688,     0.87788,     0.87888,     0.87988,     0.88088,     0.88188,     0.88288,     0.88388,     0.88488,     0.88589,     0.88689,     0.88789,\n",
              "           0.88889,     0.88989,     0.89089,     0.89189,     0.89289,     0.89389,     0.89489,      0.8959,      0.8969,      0.8979,      0.8989,      0.8999,      0.9009,      0.9019,      0.9029,      0.9039,      0.9049,     0.90591,     0.90691,     0.90791,     0.90891,     0.90991,     0.91091,     0.91191,\n",
              "           0.91291,     0.91391,     0.91491,     0.91592,     0.91692,     0.91792,     0.91892,     0.91992,     0.92092,     0.92192,     0.92292,     0.92392,     0.92492,     0.92593,     0.92693,     0.92793,     0.92893,     0.92993,     0.93093,     0.93193,     0.93293,     0.93393,     0.93493,     0.93594,\n",
              "           0.93694,     0.93794,     0.93894,     0.93994,     0.94094,     0.94194,     0.94294,     0.94394,     0.94494,     0.94595,     0.94695,     0.94795,     0.94895,     0.94995,     0.95095,     0.95195,     0.95295,     0.95395,     0.95495,     0.95596,     0.95696,     0.95796,     0.95896,     0.95996,\n",
              "           0.96096,     0.96196,     0.96296,     0.96396,     0.96496,     0.96597,     0.96697,     0.96797,     0.96897,     0.96997,     0.97097,     0.97197,     0.97297,     0.97397,     0.97497,     0.97598,     0.97698,     0.97798,     0.97898,     0.97998,     0.98098,     0.98198,     0.98298,     0.98398,\n",
              "           0.98498,     0.98599,     0.98699,     0.98799,     0.98899,     0.98999,     0.99099,     0.99199,     0.99299,     0.99399,     0.99499,       0.996,       0.997,       0.998,       0.999,           1]), array([[    0.66764,     0.66764,     0.66472,      0.6622,     0.66014,     0.65779,     0.65593,     0.65437,     0.65296,     0.65167,     0.65004,     0.64913,     0.64762,     0.64623,     0.64502,     0.64374,     0.64258,     0.64145,     0.64006,     0.63903,      0.6382,     0.63749,     0.63649,\n",
              "            0.63588,     0.63472,     0.63352,     0.63266,      0.6319,     0.63069,     0.62961,     0.62886,     0.62785,     0.62689,     0.62619,     0.62548,     0.62465,     0.62377,     0.62319,     0.62246,     0.62191,       0.621,     0.62032,     0.61974,     0.61883,     0.61803,      0.6175,\n",
              "            0.61649,     0.61589,     0.61538,     0.61425,     0.61364,     0.61317,     0.61261,     0.61193,      0.6113,      0.6107,     0.61022,     0.60959,     0.60881,     0.60795,      0.6075,     0.60669,     0.60614,     0.60559,     0.60506,      0.6046,       0.604,     0.60347,     0.60251,\n",
              "            0.60193,     0.60143,      0.6008,     0.60042,     0.59982,     0.59906,     0.59843,     0.59793,     0.59728,     0.59649,     0.59592,     0.59529,     0.59456,      0.5939,     0.59342,     0.59297,     0.59231,     0.59189,     0.59156,     0.59121,     0.59088,     0.59022,     0.58969,\n",
              "            0.58901,     0.58841,      0.5878,     0.58735,     0.58695,     0.58642,     0.58582,     0.58556,     0.58506,     0.58428,     0.58388,     0.58317,     0.58272,     0.58227,     0.58167,     0.58097,     0.58066,     0.58007,     0.57949,     0.57914,     0.57859,     0.57824,     0.57766,\n",
              "            0.57718,     0.57667,     0.57625,     0.57552,     0.57506,     0.57463,     0.57431,     0.57388,     0.57348,     0.57297,     0.57212,     0.57149,     0.57123,     0.57048,      0.5699,     0.56967,     0.56942,     0.56867,     0.56806,     0.56771,     0.56733,      0.5666,     0.56597,\n",
              "            0.56553,     0.56504,     0.56452,     0.56398,      0.5636,     0.56305,     0.56262,     0.56194,     0.56139,     0.56086,     0.56051,      0.5601,     0.55952,     0.55909,     0.55847,     0.55796,     0.55733,      0.5567,     0.55612,     0.55562,     0.55544,     0.55517,     0.55456,\n",
              "            0.55388,     0.55348,     0.55313,      0.5525,     0.55199,     0.55164,     0.55134,     0.55086,     0.55048,     0.54992,     0.54953,       0.549,     0.54869,     0.54819,     0.54764,     0.54698,     0.54673,     0.54608,     0.54552,     0.54517,     0.54504,     0.54461,     0.54419,\n",
              "            0.54391,     0.54348,     0.54303,      0.5425,      0.5422,     0.54182,     0.54147,     0.54132,     0.54101,     0.54051,     0.54013,     0.53965,     0.53912,     0.53891,     0.53824,     0.53784,     0.53758,     0.53701,     0.53666,     0.53603,     0.53562,     0.53512,     0.53482,\n",
              "            0.53424,     0.53373,     0.53348,     0.53293,     0.53266,     0.53205,     0.53175,     0.53129,     0.53105,     0.53026,     0.53006,     0.52943,     0.52903,     0.52841,     0.52812,     0.52744,     0.52707,     0.52652,     0.52618,     0.52565,     0.52538,     0.52472,      0.5244,\n",
              "            0.52379,     0.52357,     0.52338,     0.52268,      0.5224,     0.52172,     0.52142,     0.52094,     0.52045,     0.52016,      0.5198,     0.51944,      0.5189,     0.51872,     0.51835,     0.51774,     0.51744,     0.51729,     0.51653,     0.51613,     0.51555,     0.51507,      0.5147,\n",
              "            0.51419,     0.51384,     0.51346,     0.51295,     0.51271,     0.51233,     0.51147,     0.51114,     0.51061,     0.51019,      0.5099,     0.50946,     0.50858,     0.50822,     0.50795,     0.50747,     0.50722,     0.50687,     0.50643,     0.50606,     0.50591,     0.50573,     0.50515,\n",
              "            0.50476,     0.50417,     0.50397,     0.50325,     0.50288,     0.50246,     0.50198,     0.50164,      0.5012,     0.50097,     0.50031,     0.50001,     0.49969,     0.49936,      0.4986,     0.49822,     0.49793,     0.49744,     0.49676,     0.49648,     0.49622,     0.49591,     0.49566,\n",
              "            0.49493,     0.49457,     0.49418,     0.49382,     0.49289,     0.49265,     0.49221,     0.49163,      0.4913,     0.49074,     0.49049,        0.49,     0.48974,     0.48906,     0.48886,     0.48849,     0.48806,     0.48768,     0.48742,     0.48709,     0.48651,     0.48626,     0.48576,\n",
              "            0.48539,     0.48486,     0.48407,     0.48352,      0.4831,     0.48266,     0.48232,     0.48175,     0.48097,     0.48062,     0.48028,     0.47983,     0.47932,     0.47894,     0.47861,      0.4777,     0.47734,     0.47697,     0.47645,     0.47614,     0.47587,     0.47521,     0.47493,\n",
              "             0.4745,      0.4742,     0.47397,     0.47364,     0.47329,     0.47266,     0.47213,     0.47175,     0.47132,     0.47084,     0.47026,     0.46969,     0.46935,     0.46906,     0.46856,      0.4678,     0.46737,       0.467,     0.46669,     0.46628,     0.46564,     0.46522,     0.46478,\n",
              "            0.46443,     0.46397,     0.46296,     0.46264,     0.46219,     0.46158,     0.46123,     0.46061,      0.4601,     0.45974,     0.45939,     0.45894,     0.45793,     0.45758,     0.45707,     0.45651,     0.45601,     0.45555,     0.45521,     0.45484,     0.45451,     0.45408,     0.45317,\n",
              "            0.45246,     0.45203,     0.45163,     0.45115,     0.45082,     0.45029,     0.44983,     0.44943,     0.44889,     0.44854,     0.44813,     0.44753,     0.44725,     0.44688,      0.4465,     0.44597,     0.44493,     0.44463,     0.44405,     0.44359,     0.44299,     0.44261,     0.44223,\n",
              "             0.4416,     0.44114,     0.44076,     0.44028,     0.43983,     0.43932,     0.43892,     0.43844,     0.43804,     0.43692,     0.43629,     0.43581,     0.43523,      0.4347,     0.43413,     0.43388,     0.43332,     0.43295,     0.43249,     0.43201,     0.43154,     0.43108,     0.43071,\n",
              "            0.43031,     0.42973,     0.42905,     0.42857,     0.42829,     0.42783,     0.42738,     0.42691,     0.42645,      0.4261,     0.42554,     0.42517,     0.42464,     0.42365,     0.42332,     0.42285,     0.42227,     0.42181,     0.42136,     0.42095,     0.42032,     0.41995,     0.41964,\n",
              "            0.41908,      0.4185,     0.41806,     0.41756,     0.41706,      0.4166,     0.41601,     0.41543,     0.41495,     0.41439,     0.41401,     0.41345,     0.41298,     0.41253,     0.41197,     0.41149,     0.41074,     0.41031,     0.40948,     0.40917,     0.40839,     0.40789,     0.40741,\n",
              "            0.40695,     0.40645,      0.4059,     0.40539,     0.40489,     0.40451,     0.40415,     0.40355,     0.40299,     0.40252,     0.40199,     0.40136,       0.401,     0.40052,     0.40009,     0.39972,     0.39914,     0.39871,     0.39833,     0.39789,     0.39735,     0.39699,      0.3965,\n",
              "            0.39606,     0.39553,      0.3948,     0.39427,     0.39358,     0.39301,     0.39258,     0.39195,     0.39142,     0.39092,     0.39039,     0.38976,     0.38913,     0.38865,     0.38746,     0.38696,     0.38658,     0.38578,     0.38524,     0.38474,     0.38403,     0.38366,      0.3833,\n",
              "             0.3829,      0.3822,     0.38181,     0.38131,     0.38081,      0.3805,     0.38012,     0.37973,     0.37937,     0.37881,     0.37854,      0.3778,      0.3772,     0.37642,     0.37601,     0.37564,     0.37521,     0.37465,     0.37425,     0.37371,     0.37332,     0.37259,     0.37206,\n",
              "            0.37135,     0.37072,     0.37006,     0.36951,     0.36903,     0.36786,     0.36739,     0.36703,      0.3664,     0.36567,      0.3651,     0.36458,     0.36425,     0.36357,     0.36309,     0.36249,     0.36186,     0.36125,     0.36065,     0.36019,     0.35954,     0.35896,     0.35845,\n",
              "            0.35782,     0.35737,     0.35689,     0.35631,     0.35581,     0.35455,     0.35397,     0.35334,      0.3529,     0.35232,     0.35169,     0.35108,     0.35045,     0.34997,     0.34942,     0.34879,     0.34833,     0.34763,     0.34687,     0.34639,     0.34576,     0.34466,     0.34386,\n",
              "            0.34343,     0.34279,     0.34227,     0.34171,     0.34113,     0.34068,     0.34025,     0.33957,     0.33889,     0.33782,     0.33701,     0.33649,     0.33595,     0.33522,     0.33459,     0.33414,     0.33356,     0.33305,     0.33209,     0.33128,     0.33067,     0.33007,     0.32861,\n",
              "              0.328,     0.32742,     0.32689,     0.32608,     0.32539,     0.32491,     0.32441,      0.3237,     0.32322,     0.32247,     0.32174,     0.32087,     0.32026,     0.31976,     0.31923,      0.3187,     0.31788,      0.3171,     0.31649,     0.31554,     0.31486,     0.31438,     0.31379,\n",
              "            0.31293,     0.31225,     0.31136,     0.31056,     0.30979,     0.30871,     0.30805,     0.30732,     0.30676,     0.30613,     0.30554,     0.30489,     0.30438,     0.30372,     0.30243,     0.30185,     0.30112,     0.30041,     0.29929,     0.29871,     0.29806,      0.2973,     0.29669,\n",
              "            0.29605,     0.29552,     0.29487,     0.29383,     0.29327,     0.29274,     0.29227,     0.29166,     0.29091,      0.2903,     0.28888,     0.28815,     0.28729,      0.2862,     0.28534,     0.28481,     0.28387,     0.28326,      0.2824,      0.2817,     0.28045,     0.27969,     0.27901,\n",
              "            0.27829,     0.27779,     0.27718,     0.27579,     0.27521,     0.27456,     0.27381,     0.27253,      0.2711,     0.27107,     0.26965,     0.26839,     0.26834,     0.26689,     0.26686,     0.26562,     0.26426,     0.26424,     0.26245,      0.2624,     0.26078,     0.25912,      0.2591,\n",
              "             0.2577,     0.25769,     0.25624,     0.25477,     0.25474,      0.2532,     0.25166,     0.25163,     0.25041,     0.24882,      0.2488,     0.24722,      0.2457,     0.24564,     0.24387,     0.24212,     0.24209,     0.24065,     0.24059,     0.23887,     0.23716,     0.23714,     0.23549,\n",
              "            0.23358,     0.23354,     0.23165,        0.23,     0.22812,     0.22807,     0.22632,     0.22624,     0.22426,     0.22272,     0.22269,     0.22101,     0.21935,     0.21929,     0.21744,     0.21544,     0.21536,      0.2139,     0.21221,     0.21213,     0.21034,      0.2085,     0.20632,\n",
              "            0.20629,     0.20407,     0.20169,     0.19956,     0.19943,     0.19722,     0.19525,     0.19521,     0.19278,     0.19104,     0.18875,     0.18872,     0.18635,     0.18414,     0.18411,     0.18182,     0.17944,     0.17934,     0.17697,     0.17445,     0.17156,     0.16931,     0.16925,\n",
              "            0.16667,     0.16444,     0.16153,     0.16142,      0.1588,      0.1564,     0.15404,     0.15398,     0.15119,     0.14885,     0.14631,     0.14615,     0.14356,     0.14121,     0.13796,     0.13563,     0.13552,     0.13314,        0.13,     0.12766,     0.12494,     0.12156,     0.12142,\n",
              "            0.11919,     0.11652,     0.11372,       0.111,     0.11092,     0.10807,     0.10547,     0.10269,    0.099361,     0.09685,    0.096714,    0.093514,    0.090728,    0.087946,    0.084847,       0.082,    0.079178,    0.076457,    0.073282,    0.073145,    0.070484,    0.068141,    0.065676,\n",
              "           0.063303,    0.061136,    0.058263,    0.055819,    0.055612,    0.053474,    0.051156,    0.048712,    0.046822,    0.045005,    0.043445,    0.041655,    0.039916,      0.0378,    0.036136,    0.034322,    0.032557,    0.030898,    0.029533,    0.028071,    0.026609,    0.025222,    0.024038,\n",
              "           0.022777,    0.021391,    0.020306,    0.019273,    0.017937,    0.017029,    0.015592,    0.014684,    0.014003,     0.01249,    0.011885,    0.011531,    0.011001,    0.010294,   0.0098649,   0.0094355,   0.0090817,   0.0085012,   0.0081977,   0.0077179,   0.0073137,   0.0067584,   0.0063542,\n",
              "          0.0059752,    0.005571,   0.0052927,    0.004964,   0.0046605,   0.0041556,   0.0036255,   0.0032968,   0.0030941,   0.0029417,   0.0028145,   0.0027792,   0.0025601,    0.002307,   0.0022302,    0.002147,   0.0019507,   0.0017479,   0.0016208,   0.0014684,   0.0013412,   0.0012896,   0.0011478,\n",
              "          0.0010352,  0.00093252,  0.00079337,  0.00074237,  0.00069138,  0.00062596,  0.00050205,  0.00048484,   0.0004207,  0.00039166,  0.00037279,  0.00034136,  0.00031484,  0.00029763,  0.00028042,  0.00026874,  0.00025841,  0.00024871,  0.00024011,   0.0002315,  0.00022533,   0.0002223,  0.00021926,\n",
              "         0.00021622,  0.00021318,  0.00021015,  0.00020711,  0.00020407,  0.00020085,  0.00019655,  0.00019225,  0.00018795,  0.00018364,  0.00017934,  0.00016127,  0.00014792,  0.00014395,  0.00013997,    0.000136,  0.00013203,  0.00012806,  0.00012504,  0.00012313,  0.00012121,   0.0001193,  0.00011739,\n",
              "         0.00011548,  0.00011357,  0.00011165,  0.00010974,  0.00010783,  0.00010592,    0.000104,  0.00010209,  0.00010022,  9.8439e-05,  9.6658e-05,  9.4878e-05,  9.3098e-05,  9.1317e-05,  8.9537e-05,  8.7757e-05,  8.5976e-05,  8.4196e-05,  8.2416e-05,  8.0635e-05,  7.8855e-05,  7.7075e-05,  7.5264e-05,\n",
              "         7.3279e-05,  7.1293e-05,  6.9307e-05,  6.7321e-05,  6.5336e-05,   6.335e-05,  6.1364e-05,  5.9379e-05,  5.7393e-05,  5.5407e-05,  5.3421e-05,  5.1436e-05,  4.2403e-05,  2.5193e-05,           0,           0,           0,           0,           0,           0,           0,           0,           0,\n",
              "                  0,           0,           0,           0,           0,           0,           0,           0,           0,           0,           0]]), 'Confidence', 'Recall']]\n",
              "fitness: np.float64(0.3473600857896317)\n",
              "keys: ['metrics/precision(B)', 'metrics/recall(B)', 'metrics/mAP50(B)', 'metrics/mAP50-95(B)']\n",
              "maps: array([    0.31966])\n",
              "names: {0: 'face'}\n",
              "nt_per_class: array([39707])\n",
              "nt_per_image: array([3226])\n",
              "results_dict: {'metrics/precision(B)': np.float64(0.8095721318239354), 'metrics/recall(B)': np.float64(0.5217216107991034), 'metrics/mAP50(B)': np.float64(0.596677028363532), 'metrics/mAP50-95(B)': np.float64(0.3196582032814205), 'fitness': np.float64(0.3473600857896317)}\n",
              "save_dir: PosixPath('runs/detect/face_yolov83')\n",
              "speed: {'preprocess': 0.1932647458145259, 'inference': 1.8705752895237968, 'loss': 0.0004009442047855236, 'postprocess': 2.274589954121367}\n",
              "stats: {'tp': [], 'conf': [], 'pred_cls': [], 'target_cls': [], 'target_img': []}\n",
              "task: 'detect'"
            ]
          },
          "metadata": {},
          "execution_count": 9
        }
      ]
    }
  ]
}